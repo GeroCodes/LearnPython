{
 "cells": [
  {
   "cell_type": "markdown",
   "metadata": {},
   "source": [
    "## How to concat and merge dataframes?"
   ]
  },
  {
   "source": [
    "### Selecting a Merge-Function\n",
    "#### df1.append(df2): stacking vertically\n",
    "#### pd.concat([df1,df2],axis=1): stacking many horizontally or vertically (simple inner/outer joins on indexes)\n",
    "#### df1.join(df2): inner/outer/left/right joins on indexes\n",
    "#### pd.merge([df1,df2]): many joins on multiple cols\n",
    "\n",
    "#### best practice: concat and merge"
   ],
   "cell_type": "markdown",
   "metadata": {}
  },
  {
   "cell_type": "code",
   "execution_count": 4,
   "metadata": {},
   "outputs": [],
   "source": [
    "import pandas as pd"
   ]
  },
  {
   "cell_type": "code",
   "execution_count": 5,
   "metadata": {},
   "outputs": [
    {
     "output_type": "execute_result",
     "data": {
      "text/plain": [
       "   movie_id              movie\n",
       "0         1   Toy Story (1995)\n",
       "1         2  Golden Eye (1995)\n",
       "2         3  Four Rooms (1995)\n",
       "3         4  Get Shorty (1995)\n",
       "4         5     Copycat (1995)"
      ],
      "text/html": "<div>\n<style scoped>\n    .dataframe tbody tr th:only-of-type {\n        vertical-align: middle;\n    }\n\n    .dataframe tbody tr th {\n        vertical-align: top;\n    }\n\n    .dataframe thead th {\n        text-align: right;\n    }\n</style>\n<table border=\"1\" class=\"dataframe\">\n  <thead>\n    <tr style=\"text-align: right;\">\n      <th></th>\n      <th>movie_id</th>\n      <th>movie</th>\n    </tr>\n  </thead>\n  <tbody>\n    <tr>\n      <th>0</th>\n      <td>1</td>\n      <td>Toy Story (1995)</td>\n    </tr>\n    <tr>\n      <th>1</th>\n      <td>2</td>\n      <td>Golden Eye (1995)</td>\n    </tr>\n    <tr>\n      <th>2</th>\n      <td>3</td>\n      <td>Four Rooms (1995)</td>\n    </tr>\n    <tr>\n      <th>3</th>\n      <td>4</td>\n      <td>Get Shorty (1995)</td>\n    </tr>\n    <tr>\n      <th>4</th>\n      <td>5</td>\n      <td>Copycat (1995)</td>\n    </tr>\n  </tbody>\n</table>\n</div>"
     },
     "metadata": {},
     "execution_count": 5
    }
   ],
   "source": [
    "#create a dataframe movies\n",
    "import numpy as np\n",
    "movies = pd.DataFrame(\n",
    "    {'movie_id': np.arange(1,6,1),\n",
    "    'movie': ['Toy Story (1995)', 'Golden Eye (1995)', 'Four Rooms (1995)', 'Get Shorty (1995)', 'Copycat (1995)']\n",
    "    })\n",
    "movies"
   ]
  },
  {
   "cell_type": "code",
   "execution_count": 6,
   "metadata": {},
   "outputs": [
    {
     "output_type": "execute_result",
     "data": {
      "text/plain": [
       "   user_id  movie_id  rating  timestamp\n",
       "0        5         5       2  880209267\n",
       "1       56         5       1  885802805\n",
       "2        5         5       1  882365327\n",
       "3       36         1       1  889641582\n",
       "4       34         5       3  884916453\n",
       "5       87         5       2  879133726\n",
       "6       59         5       1  887803789\n",
       "7       60         5       1  882977380\n",
       "8        0         4       3  889875874\n",
       "9       11         2       2  881365858"
      ],
      "text/html": "<div>\n<style scoped>\n    .dataframe tbody tr th:only-of-type {\n        vertical-align: middle;\n    }\n\n    .dataframe tbody tr th {\n        vertical-align: top;\n    }\n\n    .dataframe thead th {\n        text-align: right;\n    }\n</style>\n<table border=\"1\" class=\"dataframe\">\n  <thead>\n    <tr style=\"text-align: right;\">\n      <th></th>\n      <th>user_id</th>\n      <th>movie_id</th>\n      <th>rating</th>\n      <th>timestamp</th>\n    </tr>\n  </thead>\n  <tbody>\n    <tr>\n      <th>0</th>\n      <td>5</td>\n      <td>5</td>\n      <td>2</td>\n      <td>880209267</td>\n    </tr>\n    <tr>\n      <th>1</th>\n      <td>56</td>\n      <td>5</td>\n      <td>1</td>\n      <td>885802805</td>\n    </tr>\n    <tr>\n      <th>2</th>\n      <td>5</td>\n      <td>5</td>\n      <td>1</td>\n      <td>882365327</td>\n    </tr>\n    <tr>\n      <th>3</th>\n      <td>36</td>\n      <td>1</td>\n      <td>1</td>\n      <td>889641582</td>\n    </tr>\n    <tr>\n      <th>4</th>\n      <td>34</td>\n      <td>5</td>\n      <td>3</td>\n      <td>884916453</td>\n    </tr>\n    <tr>\n      <th>5</th>\n      <td>87</td>\n      <td>5</td>\n      <td>2</td>\n      <td>879133726</td>\n    </tr>\n    <tr>\n      <th>6</th>\n      <td>59</td>\n      <td>5</td>\n      <td>1</td>\n      <td>887803789</td>\n    </tr>\n    <tr>\n      <th>7</th>\n      <td>60</td>\n      <td>5</td>\n      <td>1</td>\n      <td>882977380</td>\n    </tr>\n    <tr>\n      <th>8</th>\n      <td>0</td>\n      <td>4</td>\n      <td>3</td>\n      <td>889875874</td>\n    </tr>\n    <tr>\n      <th>9</th>\n      <td>11</td>\n      <td>2</td>\n      <td>2</td>\n      <td>881365858</td>\n    </tr>\n  </tbody>\n</table>\n</div>"
     },
     "metadata": {},
     "execution_count": 6
    }
   ],
   "source": [
    "#create a dataframe ratings\n",
    "s=10\n",
    "ratings = pd.DataFrame(\n",
    "    {'user_id': np.random.randint(100, size=s),\n",
    "    'movie_id': np.random.randint(1,6, size=s),\n",
    "    'rating': np.random.randint(1,4, size=s),\n",
    "    'timestamp': np.random.randint(878871216, 890387596, size=s)\n",
    "    })\n",
    "ratings"
   ]
  },
  {
   "source": [
    "### Show details of the dataframes"
   ],
   "cell_type": "markdown",
   "metadata": {}
  },
  {
   "cell_type": "code",
   "execution_count": 7,
   "metadata": {},
   "outputs": [
    {
     "output_type": "execute_result",
     "data": {
      "text/plain": [
       "   user_id  movie_id  rating  timestamp\n",
       "3       36         1       1  889641582"
      ],
      "text/html": "<div>\n<style scoped>\n    .dataframe tbody tr th:only-of-type {\n        vertical-align: middle;\n    }\n\n    .dataframe tbody tr th {\n        vertical-align: top;\n    }\n\n    .dataframe thead th {\n        text-align: right;\n    }\n</style>\n<table border=\"1\" class=\"dataframe\">\n  <thead>\n    <tr style=\"text-align: right;\">\n      <th></th>\n      <th>user_id</th>\n      <th>movie_id</th>\n      <th>rating</th>\n      <th>timestamp</th>\n    </tr>\n  </thead>\n  <tbody>\n    <tr>\n      <th>3</th>\n      <td>36</td>\n      <td>1</td>\n      <td>1</td>\n      <td>889641582</td>\n    </tr>\n  </tbody>\n</table>\n</div>"
     },
     "metadata": {},
     "execution_count": 7
    }
   ],
   "source": [
    "ratings.loc[ratings.movie_id==1,:]"
   ]
  },
  {
   "cell_type": "code",
   "execution_count": 8,
   "metadata": {},
   "outputs": [
    {
     "output_type": "execute_result",
     "data": {
      "text/plain": [
       "Index(['movie_id', 'movie'], dtype='object')"
      ]
     },
     "metadata": {},
     "execution_count": 8
    }
   ],
   "source": [
    "movies.columns"
   ]
  },
  {
   "cell_type": "code",
   "execution_count": 9,
   "metadata": {},
   "outputs": [
    {
     "output_type": "execute_result",
     "data": {
      "text/plain": [
       "Index(['user_id', 'movie_id', 'rating', 'timestamp'], dtype='object')"
      ]
     },
     "metadata": {},
     "execution_count": 9
    }
   ],
   "source": [
    "ratings.columns"
   ]
  },
  {
   "source": [
    "### How to use merge"
   ],
   "cell_type": "markdown",
   "metadata": {}
  },
  {
   "cell_type": "code",
   "execution_count": 10,
   "metadata": {},
   "outputs": [
    {
     "output_type": "execute_result",
     "data": {
      "text/plain": [
       "Index(['movie_id', 'movie', 'user_id', 'rating', 'timestamp'], dtype='object')"
      ]
     },
     "metadata": {},
     "execution_count": 10
    }
   ],
   "source": [
    "#IMPORTANT: PANDAS\n",
    "#merge #pandas\n",
    "\n",
    "#pd.merge(df1,df2): pandas returns the cols in the order you pass it (first cols of df1 then df2)\n",
    "#pd.merge automatically merges on cols with the same name (this col will appear just once)\n",
    "movie_ratings = pd.merge(movies, ratings)\n",
    "movie_ratings.columns"
   ]
  },
  {
   "cell_type": "code",
   "execution_count": 11,
   "metadata": {},
   "outputs": [
    {
     "output_type": "execute_result",
     "data": {
      "text/plain": [
       "   movie_id              movie  user_id  rating  timestamp\n",
       "0         1   Toy Story (1995)       36       1  889641582\n",
       "1         2  Golden Eye (1995)       11       2  881365858\n",
       "2         4  Get Shorty (1995)        0       3  889875874\n",
       "3         5     Copycat (1995)        5       2  880209267\n",
       "4         5     Copycat (1995)       56       1  885802805\n",
       "5         5     Copycat (1995)        5       1  882365327\n",
       "6         5     Copycat (1995)       34       3  884916453\n",
       "7         5     Copycat (1995)       87       2  879133726\n",
       "8         5     Copycat (1995)       59       1  887803789\n",
       "9         5     Copycat (1995)       60       1  882977380"
      ],
      "text/html": "<div>\n<style scoped>\n    .dataframe tbody tr th:only-of-type {\n        vertical-align: middle;\n    }\n\n    .dataframe tbody tr th {\n        vertical-align: top;\n    }\n\n    .dataframe thead th {\n        text-align: right;\n    }\n</style>\n<table border=\"1\" class=\"dataframe\">\n  <thead>\n    <tr style=\"text-align: right;\">\n      <th></th>\n      <th>movie_id</th>\n      <th>movie</th>\n      <th>user_id</th>\n      <th>rating</th>\n      <th>timestamp</th>\n    </tr>\n  </thead>\n  <tbody>\n    <tr>\n      <th>0</th>\n      <td>1</td>\n      <td>Toy Story (1995)</td>\n      <td>36</td>\n      <td>1</td>\n      <td>889641582</td>\n    </tr>\n    <tr>\n      <th>1</th>\n      <td>2</td>\n      <td>Golden Eye (1995)</td>\n      <td>11</td>\n      <td>2</td>\n      <td>881365858</td>\n    </tr>\n    <tr>\n      <th>2</th>\n      <td>4</td>\n      <td>Get Shorty (1995)</td>\n      <td>0</td>\n      <td>3</td>\n      <td>889875874</td>\n    </tr>\n    <tr>\n      <th>3</th>\n      <td>5</td>\n      <td>Copycat (1995)</td>\n      <td>5</td>\n      <td>2</td>\n      <td>880209267</td>\n    </tr>\n    <tr>\n      <th>4</th>\n      <td>5</td>\n      <td>Copycat (1995)</td>\n      <td>56</td>\n      <td>1</td>\n      <td>885802805</td>\n    </tr>\n    <tr>\n      <th>5</th>\n      <td>5</td>\n      <td>Copycat (1995)</td>\n      <td>5</td>\n      <td>1</td>\n      <td>882365327</td>\n    </tr>\n    <tr>\n      <th>6</th>\n      <td>5</td>\n      <td>Copycat (1995)</td>\n      <td>34</td>\n      <td>3</td>\n      <td>884916453</td>\n    </tr>\n    <tr>\n      <th>7</th>\n      <td>5</td>\n      <td>Copycat (1995)</td>\n      <td>87</td>\n      <td>2</td>\n      <td>879133726</td>\n    </tr>\n    <tr>\n      <th>8</th>\n      <td>5</td>\n      <td>Copycat (1995)</td>\n      <td>59</td>\n      <td>1</td>\n      <td>887803789</td>\n    </tr>\n    <tr>\n      <th>9</th>\n      <td>5</td>\n      <td>Copycat (1995)</td>\n      <td>60</td>\n      <td>1</td>\n      <td>882977380</td>\n    </tr>\n  </tbody>\n</table>\n</div>"
     },
     "metadata": {},
     "execution_count": 11
    }
   ],
   "source": [
    "#merge searches for the first movie_id in movies and adds the first row with information about the movie_id (and then the 2nd, 3rd,...)\n",
    "movie_ratings"
   ]
  },
  {
   "cell_type": "code",
   "execution_count": 12,
   "metadata": {},
   "outputs": [
    {
     "output_type": "stream",
     "name": "stdout",
     "text": [
      "(5, 2)\n(10, 4)\n(10, 5)\n"
     ]
    }
   ],
   "source": [
    "#comparing the shape of the dataframes with the merge\n",
    "print(movies.shape)\n",
    "print(ratings.shape)\n",
    "print(movie_ratings.shape)"
   ]
  },
  {
   "source": [
    "### How to merge if there are different col-names"
   ],
   "cell_type": "markdown",
   "metadata": {}
  },
  {
   "cell_type": "code",
   "execution_count": 13,
   "metadata": {},
   "outputs": [
    {
     "output_type": "stream",
     "name": "stdout",
     "text": [
      "Index(['m_id', 'title'], dtype='object')\nIndex(['user_id', 'movie_id', 'rating', 'timestamp'], dtype='object')\n"
     ]
    }
   ],
   "source": [
    "#change the movie.columns and compare to ratings.columns\n",
    "#make sure there are not the same col-names\n",
    "movies.columns = ['m_id', 'title']\n",
    "print(movies.columns)\n",
    "print(ratings.columns)"
   ]
  },
  {
   "cell_type": "code",
   "execution_count": 15,
   "metadata": {},
   "outputs": [
    {
     "output_type": "execute_result",
     "data": {
      "text/plain": [
       "   m_id              title  user_id  movie_id  rating  timestamp\n",
       "0     1   Toy Story (1995)       36         1       1  889641582\n",
       "1     2  Golden Eye (1995)       11         2       2  881365858\n",
       "2     4  Get Shorty (1995)        0         4       3  889875874\n",
       "3     5     Copycat (1995)        5         5       2  880209267\n",
       "4     5     Copycat (1995)       56         5       1  885802805\n",
       "5     5     Copycat (1995)        5         5       1  882365327\n",
       "6     5     Copycat (1995)       34         5       3  884916453\n",
       "7     5     Copycat (1995)       87         5       2  879133726\n",
       "8     5     Copycat (1995)       59         5       1  887803789\n",
       "9     5     Copycat (1995)       60         5       1  882977380"
      ],
      "text/html": "<div>\n<style scoped>\n    .dataframe tbody tr th:only-of-type {\n        vertical-align: middle;\n    }\n\n    .dataframe tbody tr th {\n        vertical-align: top;\n    }\n\n    .dataframe thead th {\n        text-align: right;\n    }\n</style>\n<table border=\"1\" class=\"dataframe\">\n  <thead>\n    <tr style=\"text-align: right;\">\n      <th></th>\n      <th>m_id</th>\n      <th>title</th>\n      <th>user_id</th>\n      <th>movie_id</th>\n      <th>rating</th>\n      <th>timestamp</th>\n    </tr>\n  </thead>\n  <tbody>\n    <tr>\n      <th>0</th>\n      <td>1</td>\n      <td>Toy Story (1995)</td>\n      <td>36</td>\n      <td>1</td>\n      <td>1</td>\n      <td>889641582</td>\n    </tr>\n    <tr>\n      <th>1</th>\n      <td>2</td>\n      <td>Golden Eye (1995)</td>\n      <td>11</td>\n      <td>2</td>\n      <td>2</td>\n      <td>881365858</td>\n    </tr>\n    <tr>\n      <th>2</th>\n      <td>4</td>\n      <td>Get Shorty (1995)</td>\n      <td>0</td>\n      <td>4</td>\n      <td>3</td>\n      <td>889875874</td>\n    </tr>\n    <tr>\n      <th>3</th>\n      <td>5</td>\n      <td>Copycat (1995)</td>\n      <td>5</td>\n      <td>5</td>\n      <td>2</td>\n      <td>880209267</td>\n    </tr>\n    <tr>\n      <th>4</th>\n      <td>5</td>\n      <td>Copycat (1995)</td>\n      <td>56</td>\n      <td>5</td>\n      <td>1</td>\n      <td>885802805</td>\n    </tr>\n    <tr>\n      <th>5</th>\n      <td>5</td>\n      <td>Copycat (1995)</td>\n      <td>5</td>\n      <td>5</td>\n      <td>1</td>\n      <td>882365327</td>\n    </tr>\n    <tr>\n      <th>6</th>\n      <td>5</td>\n      <td>Copycat (1995)</td>\n      <td>34</td>\n      <td>5</td>\n      <td>3</td>\n      <td>884916453</td>\n    </tr>\n    <tr>\n      <th>7</th>\n      <td>5</td>\n      <td>Copycat (1995)</td>\n      <td>87</td>\n      <td>5</td>\n      <td>2</td>\n      <td>879133726</td>\n    </tr>\n    <tr>\n      <th>8</th>\n      <td>5</td>\n      <td>Copycat (1995)</td>\n      <td>59</td>\n      <td>5</td>\n      <td>1</td>\n      <td>887803789</td>\n    </tr>\n    <tr>\n      <th>9</th>\n      <td>5</td>\n      <td>Copycat (1995)</td>\n      <td>60</td>\n      <td>5</td>\n      <td>1</td>\n      <td>882977380</td>\n    </tr>\n  </tbody>\n</table>\n</div>"
     },
     "metadata": {},
     "execution_count": 15
    }
   ],
   "source": [
    "#IMPORTANT: PANDAS\n",
    "#merge #mergeoncols #pandas\n",
    "\n",
    "#merge-function if dataframes don't share the same col-name\n",
    "pd.merge(movies,ratings,left_on='m_id',right_on='movie_id')"
   ]
  },
  {
   "source": [
    "### How to join on indexes"
   ],
   "cell_type": "markdown",
   "metadata": {}
  },
  {
   "cell_type": "code",
   "execution_count": 16,
   "metadata": {},
   "outputs": [
    {
     "output_type": "execute_result",
     "data": {
      "text/plain": [
       "                  title\n",
       "m_id                   \n",
       "1      Toy Story (1995)\n",
       "2     Golden Eye (1995)\n",
       "3     Four Rooms (1995)\n",
       "4     Get Shorty (1995)\n",
       "5        Copycat (1995)"
      ],
      "text/html": "<div>\n<style scoped>\n    .dataframe tbody tr th:only-of-type {\n        vertical-align: middle;\n    }\n\n    .dataframe tbody tr th {\n        vertical-align: top;\n    }\n\n    .dataframe thead th {\n        text-align: right;\n    }\n</style>\n<table border=\"1\" class=\"dataframe\">\n  <thead>\n    <tr style=\"text-align: right;\">\n      <th></th>\n      <th>title</th>\n    </tr>\n    <tr>\n      <th>m_id</th>\n      <th></th>\n    </tr>\n  </thead>\n  <tbody>\n    <tr>\n      <th>1</th>\n      <td>Toy Story (1995)</td>\n    </tr>\n    <tr>\n      <th>2</th>\n      <td>Golden Eye (1995)</td>\n    </tr>\n    <tr>\n      <th>3</th>\n      <td>Four Rooms (1995)</td>\n    </tr>\n    <tr>\n      <th>4</th>\n      <td>Get Shorty (1995)</td>\n    </tr>\n    <tr>\n      <th>5</th>\n      <td>Copycat (1995)</td>\n    </tr>\n  </tbody>\n</table>\n</div>"
     },
     "metadata": {},
     "execution_count": 16
    }
   ],
   "source": [
    "movies = movies.set_index('m_id')\n",
    "movies"
   ]
  },
  {
   "cell_type": "code",
   "execution_count": 17,
   "metadata": {},
   "outputs": [
    {
     "output_type": "execute_result",
     "data": {
      "text/plain": [
       "               title  user_id  movie_id  rating  timestamp\n",
       "3   Toy Story (1995)       36         1       1  889641582\n",
       "9  Golden Eye (1995)       11         2       2  881365858\n",
       "8  Get Shorty (1995)        0         4       3  889875874\n",
       "0     Copycat (1995)        5         5       2  880209267\n",
       "1     Copycat (1995)       56         5       1  885802805\n",
       "2     Copycat (1995)        5         5       1  882365327\n",
       "4     Copycat (1995)       34         5       3  884916453\n",
       "5     Copycat (1995)       87         5       2  879133726\n",
       "6     Copycat (1995)       59         5       1  887803789\n",
       "7     Copycat (1995)       60         5       1  882977380"
      ],
      "text/html": "<div>\n<style scoped>\n    .dataframe tbody tr th:only-of-type {\n        vertical-align: middle;\n    }\n\n    .dataframe tbody tr th {\n        vertical-align: top;\n    }\n\n    .dataframe thead th {\n        text-align: right;\n    }\n</style>\n<table border=\"1\" class=\"dataframe\">\n  <thead>\n    <tr style=\"text-align: right;\">\n      <th></th>\n      <th>title</th>\n      <th>user_id</th>\n      <th>movie_id</th>\n      <th>rating</th>\n      <th>timestamp</th>\n    </tr>\n  </thead>\n  <tbody>\n    <tr>\n      <th>3</th>\n      <td>Toy Story (1995)</td>\n      <td>36</td>\n      <td>1</td>\n      <td>1</td>\n      <td>889641582</td>\n    </tr>\n    <tr>\n      <th>9</th>\n      <td>Golden Eye (1995)</td>\n      <td>11</td>\n      <td>2</td>\n      <td>2</td>\n      <td>881365858</td>\n    </tr>\n    <tr>\n      <th>8</th>\n      <td>Get Shorty (1995)</td>\n      <td>0</td>\n      <td>4</td>\n      <td>3</td>\n      <td>889875874</td>\n    </tr>\n    <tr>\n      <th>0</th>\n      <td>Copycat (1995)</td>\n      <td>5</td>\n      <td>5</td>\n      <td>2</td>\n      <td>880209267</td>\n    </tr>\n    <tr>\n      <th>1</th>\n      <td>Copycat (1995)</td>\n      <td>56</td>\n      <td>5</td>\n      <td>1</td>\n      <td>885802805</td>\n    </tr>\n    <tr>\n      <th>2</th>\n      <td>Copycat (1995)</td>\n      <td>5</td>\n      <td>5</td>\n      <td>1</td>\n      <td>882365327</td>\n    </tr>\n    <tr>\n      <th>4</th>\n      <td>Copycat (1995)</td>\n      <td>34</td>\n      <td>5</td>\n      <td>3</td>\n      <td>884916453</td>\n    </tr>\n    <tr>\n      <th>5</th>\n      <td>Copycat (1995)</td>\n      <td>87</td>\n      <td>5</td>\n      <td>2</td>\n      <td>879133726</td>\n    </tr>\n    <tr>\n      <th>6</th>\n      <td>Copycat (1995)</td>\n      <td>59</td>\n      <td>5</td>\n      <td>1</td>\n      <td>887803789</td>\n    </tr>\n    <tr>\n      <th>7</th>\n      <td>Copycat (1995)</td>\n      <td>60</td>\n      <td>5</td>\n      <td>1</td>\n      <td>882977380</td>\n    </tr>\n  </tbody>\n</table>\n</div>"
     },
     "metadata": {},
     "execution_count": 17
    }
   ],
   "source": [
    "#IMPORTANT: PANDAS\n",
    "#merge #mergeonindex #pandas\n",
    "\n",
    "#merge (one index)\n",
    "#index of the right dataframe is used as the new index\n",
    "pd.merge(movies,ratings,left_index=True, right_on='movie_id')"
   ]
  },
  {
   "source": [
    "### How to join on two indexes"
   ],
   "cell_type": "markdown",
   "metadata": {}
  },
  {
   "cell_type": "code",
   "execution_count": 18,
   "metadata": {},
   "outputs": [
    {
     "output_type": "execute_result",
     "data": {
      "text/plain": [
       "          user_id  rating  timestamp\n",
       "movie_id                            \n",
       "5               5       2  880209267\n",
       "5              56       1  885802805\n",
       "5               5       1  882365327\n",
       "1              36       1  889641582\n",
       "5              34       3  884916453\n",
       "5              87       2  879133726\n",
       "5              59       1  887803789\n",
       "5              60       1  882977380\n",
       "4               0       3  889875874\n",
       "2              11       2  881365858"
      ],
      "text/html": "<div>\n<style scoped>\n    .dataframe tbody tr th:only-of-type {\n        vertical-align: middle;\n    }\n\n    .dataframe tbody tr th {\n        vertical-align: top;\n    }\n\n    .dataframe thead th {\n        text-align: right;\n    }\n</style>\n<table border=\"1\" class=\"dataframe\">\n  <thead>\n    <tr style=\"text-align: right;\">\n      <th></th>\n      <th>user_id</th>\n      <th>rating</th>\n      <th>timestamp</th>\n    </tr>\n    <tr>\n      <th>movie_id</th>\n      <th></th>\n      <th></th>\n      <th></th>\n    </tr>\n  </thead>\n  <tbody>\n    <tr>\n      <th>5</th>\n      <td>5</td>\n      <td>2</td>\n      <td>880209267</td>\n    </tr>\n    <tr>\n      <th>5</th>\n      <td>56</td>\n      <td>1</td>\n      <td>885802805</td>\n    </tr>\n    <tr>\n      <th>5</th>\n      <td>5</td>\n      <td>1</td>\n      <td>882365327</td>\n    </tr>\n    <tr>\n      <th>1</th>\n      <td>36</td>\n      <td>1</td>\n      <td>889641582</td>\n    </tr>\n    <tr>\n      <th>5</th>\n      <td>34</td>\n      <td>3</td>\n      <td>884916453</td>\n    </tr>\n    <tr>\n      <th>5</th>\n      <td>87</td>\n      <td>2</td>\n      <td>879133726</td>\n    </tr>\n    <tr>\n      <th>5</th>\n      <td>59</td>\n      <td>1</td>\n      <td>887803789</td>\n    </tr>\n    <tr>\n      <th>5</th>\n      <td>60</td>\n      <td>1</td>\n      <td>882977380</td>\n    </tr>\n    <tr>\n      <th>4</th>\n      <td>0</td>\n      <td>3</td>\n      <td>889875874</td>\n    </tr>\n    <tr>\n      <th>2</th>\n      <td>11</td>\n      <td>2</td>\n      <td>881365858</td>\n    </tr>\n  </tbody>\n</table>\n</div>"
     },
     "metadata": {},
     "execution_count": 18
    }
   ],
   "source": [
    "ratings = ratings.set_index('movie_id')\n",
    "ratings"
   ]
  },
  {
   "cell_type": "code",
   "execution_count": 19,
   "metadata": {},
   "outputs": [
    {
     "output_type": "execute_result",
     "data": {
      "text/plain": [
       "               title  user_id  rating  timestamp\n",
       "1   Toy Story (1995)       36       1  889641582\n",
       "2  Golden Eye (1995)       11       2  881365858\n",
       "4  Get Shorty (1995)        0       3  889875874\n",
       "5     Copycat (1995)        5       2  880209267\n",
       "5     Copycat (1995)       56       1  885802805\n",
       "5     Copycat (1995)        5       1  882365327\n",
       "5     Copycat (1995)       34       3  884916453\n",
       "5     Copycat (1995)       87       2  879133726\n",
       "5     Copycat (1995)       59       1  887803789\n",
       "5     Copycat (1995)       60       1  882977380"
      ],
      "text/html": "<div>\n<style scoped>\n    .dataframe tbody tr th:only-of-type {\n        vertical-align: middle;\n    }\n\n    .dataframe tbody tr th {\n        vertical-align: top;\n    }\n\n    .dataframe thead th {\n        text-align: right;\n    }\n</style>\n<table border=\"1\" class=\"dataframe\">\n  <thead>\n    <tr style=\"text-align: right;\">\n      <th></th>\n      <th>title</th>\n      <th>user_id</th>\n      <th>rating</th>\n      <th>timestamp</th>\n    </tr>\n  </thead>\n  <tbody>\n    <tr>\n      <th>1</th>\n      <td>Toy Story (1995)</td>\n      <td>36</td>\n      <td>1</td>\n      <td>889641582</td>\n    </tr>\n    <tr>\n      <th>2</th>\n      <td>Golden Eye (1995)</td>\n      <td>11</td>\n      <td>2</td>\n      <td>881365858</td>\n    </tr>\n    <tr>\n      <th>4</th>\n      <td>Get Shorty (1995)</td>\n      <td>0</td>\n      <td>3</td>\n      <td>889875874</td>\n    </tr>\n    <tr>\n      <th>5</th>\n      <td>Copycat (1995)</td>\n      <td>5</td>\n      <td>2</td>\n      <td>880209267</td>\n    </tr>\n    <tr>\n      <th>5</th>\n      <td>Copycat (1995)</td>\n      <td>56</td>\n      <td>1</td>\n      <td>885802805</td>\n    </tr>\n    <tr>\n      <th>5</th>\n      <td>Copycat (1995)</td>\n      <td>5</td>\n      <td>1</td>\n      <td>882365327</td>\n    </tr>\n    <tr>\n      <th>5</th>\n      <td>Copycat (1995)</td>\n      <td>34</td>\n      <td>3</td>\n      <td>884916453</td>\n    </tr>\n    <tr>\n      <th>5</th>\n      <td>Copycat (1995)</td>\n      <td>87</td>\n      <td>2</td>\n      <td>879133726</td>\n    </tr>\n    <tr>\n      <th>5</th>\n      <td>Copycat (1995)</td>\n      <td>59</td>\n      <td>1</td>\n      <td>887803789</td>\n    </tr>\n    <tr>\n      <th>5</th>\n      <td>Copycat (1995)</td>\n      <td>60</td>\n      <td>1</td>\n      <td>882977380</td>\n    </tr>\n  </tbody>\n</table>\n</div>"
     },
     "metadata": {},
     "execution_count": 19
    }
   ],
   "source": [
    "#IMPORTANT: PANDAS\n",
    "#merge #mergeontwoindexes #pandas\n",
    "\n",
    "#merge (two index)\n",
    "#index of the left dataframe is used as the new index\n",
    "pd.merge(movies, ratings, left_index=True, right_index=True)"
   ]
  },
  {
   "source": [
    "### Inner, Outer, Left and Right Merge"
   ],
   "cell_type": "markdown",
   "metadata": {}
  },
  {
   "cell_type": "code",
   "execution_count": 20,
   "metadata": {},
   "outputs": [],
   "source": [
    "A = pd.DataFrame({\n",
    "    'color': ['green','yellow','red'],\n",
    "    'num': [1,2,3]\n",
    "})\n",
    "B = pd.DataFrame({\n",
    "    'color':['green','yellow','pink'],\n",
    "    'size': ['S','M','L']\n",
    "})"
   ]
  },
  {
   "source": [
    "### Inner"
   ],
   "cell_type": "markdown",
   "metadata": {}
  },
  {
   "cell_type": "code",
   "execution_count": 21,
   "metadata": {},
   "outputs": [
    {
     "output_type": "execute_result",
     "data": {
      "text/plain": [
       "    color  num size\n",
       "0   green    1    S\n",
       "1  yellow    2    M"
      ],
      "text/html": "<div>\n<style scoped>\n    .dataframe tbody tr th:only-of-type {\n        vertical-align: middle;\n    }\n\n    .dataframe tbody tr th {\n        vertical-align: top;\n    }\n\n    .dataframe thead th {\n        text-align: right;\n    }\n</style>\n<table border=\"1\" class=\"dataframe\">\n  <thead>\n    <tr style=\"text-align: right;\">\n      <th></th>\n      <th>color</th>\n      <th>num</th>\n      <th>size</th>\n    </tr>\n  </thead>\n  <tbody>\n    <tr>\n      <th>0</th>\n      <td>green</td>\n      <td>1</td>\n      <td>S</td>\n    </tr>\n    <tr>\n      <th>1</th>\n      <td>yellow</td>\n      <td>2</td>\n      <td>M</td>\n    </tr>\n  </tbody>\n</table>\n</div>"
     },
     "metadata": {},
     "execution_count": 21
    }
   ],
   "source": [
    "#IMPORTANT: PANDAS\n",
    "#merge #inner #pandas\n",
    "#only include observations found in both A and B\n",
    "pd.merge(A,B,how='inner')"
   ]
  },
  {
   "source": [
    "### Outer"
   ],
   "cell_type": "markdown",
   "metadata": {}
  },
  {
   "cell_type": "code",
   "execution_count": 22,
   "metadata": {},
   "outputs": [
    {
     "output_type": "execute_result",
     "data": {
      "text/plain": [
       "    color  num size\n",
       "0   green  1.0    S\n",
       "1  yellow  2.0    M\n",
       "2     red  3.0  NaN\n",
       "3    pink  NaN    L"
      ],
      "text/html": "<div>\n<style scoped>\n    .dataframe tbody tr th:only-of-type {\n        vertical-align: middle;\n    }\n\n    .dataframe tbody tr th {\n        vertical-align: top;\n    }\n\n    .dataframe thead th {\n        text-align: right;\n    }\n</style>\n<table border=\"1\" class=\"dataframe\">\n  <thead>\n    <tr style=\"text-align: right;\">\n      <th></th>\n      <th>color</th>\n      <th>num</th>\n      <th>size</th>\n    </tr>\n  </thead>\n  <tbody>\n    <tr>\n      <th>0</th>\n      <td>green</td>\n      <td>1.0</td>\n      <td>S</td>\n    </tr>\n    <tr>\n      <th>1</th>\n      <td>yellow</td>\n      <td>2.0</td>\n      <td>M</td>\n    </tr>\n    <tr>\n      <th>2</th>\n      <td>red</td>\n      <td>3.0</td>\n      <td>NaN</td>\n    </tr>\n    <tr>\n      <th>3</th>\n      <td>pink</td>\n      <td>NaN</td>\n      <td>L</td>\n    </tr>\n  </tbody>\n</table>\n</div>"
     },
     "metadata": {},
     "execution_count": 22
    }
   ],
   "source": [
    "#IMPORTANT: PANDAS\n",
    "#merge #outer #pandas\n",
    "#includes observations found in either A or B\n",
    "pd.merge(A,B,how='outer')"
   ]
  },
  {
   "source": [
    "### Left"
   ],
   "cell_type": "markdown",
   "metadata": {}
  },
  {
   "cell_type": "code",
   "execution_count": 23,
   "metadata": {},
   "outputs": [
    {
     "output_type": "execute_result",
     "data": {
      "text/plain": [
       "    color  num size\n",
       "0   green    1    S\n",
       "1  yellow    2    M\n",
       "2     red    3  NaN"
      ],
      "text/html": "<div>\n<style scoped>\n    .dataframe tbody tr th:only-of-type {\n        vertical-align: middle;\n    }\n\n    .dataframe tbody tr th {\n        vertical-align: top;\n    }\n\n    .dataframe thead th {\n        text-align: right;\n    }\n</style>\n<table border=\"1\" class=\"dataframe\">\n  <thead>\n    <tr style=\"text-align: right;\">\n      <th></th>\n      <th>color</th>\n      <th>num</th>\n      <th>size</th>\n    </tr>\n  </thead>\n  <tbody>\n    <tr>\n      <th>0</th>\n      <td>green</td>\n      <td>1</td>\n      <td>S</td>\n    </tr>\n    <tr>\n      <th>1</th>\n      <td>yellow</td>\n      <td>2</td>\n      <td>M</td>\n    </tr>\n    <tr>\n      <th>2</th>\n      <td>red</td>\n      <td>3</td>\n      <td>NaN</td>\n    </tr>\n  </tbody>\n</table>\n</div>"
     },
     "metadata": {},
     "execution_count": 23
    }
   ],
   "source": [
    "#IMPORTANT: PANDAS\n",
    "#merge #left #pandas\n",
    "#include all observations found in A\n",
    "pd.merge(A,B,how='left')"
   ]
  },
  {
   "source": [
    "### Right"
   ],
   "cell_type": "markdown",
   "metadata": {}
  },
  {
   "cell_type": "code",
   "execution_count": 24,
   "metadata": {},
   "outputs": [
    {
     "output_type": "execute_result",
     "data": {
      "text/plain": [
       "    color  num size\n",
       "0   green  1.0    S\n",
       "1  yellow  2.0    M\n",
       "2    pink  NaN    L"
      ],
      "text/html": "<div>\n<style scoped>\n    .dataframe tbody tr th:only-of-type {\n        vertical-align: middle;\n    }\n\n    .dataframe tbody tr th {\n        vertical-align: top;\n    }\n\n    .dataframe thead th {\n        text-align: right;\n    }\n</style>\n<table border=\"1\" class=\"dataframe\">\n  <thead>\n    <tr style=\"text-align: right;\">\n      <th></th>\n      <th>color</th>\n      <th>num</th>\n      <th>size</th>\n    </tr>\n  </thead>\n  <tbody>\n    <tr>\n      <th>0</th>\n      <td>green</td>\n      <td>1.0</td>\n      <td>S</td>\n    </tr>\n    <tr>\n      <th>1</th>\n      <td>yellow</td>\n      <td>2.0</td>\n      <td>M</td>\n    </tr>\n    <tr>\n      <th>2</th>\n      <td>pink</td>\n      <td>NaN</td>\n      <td>L</td>\n    </tr>\n  </tbody>\n</table>\n</div>"
     },
     "metadata": {},
     "execution_count": 24
    }
   ],
   "source": [
    "#IMPORTANT: PANDAS\n",
    "#merge #right #pandas\n",
    "#include all observations found in B\n",
    "pd.merge(A,B,how='right')"
   ]
  }
 ],
 "metadata": {
  "kernelspec": {
   "display_name": "Python 3",
   "language": "python",
   "name": "python3"
  },
  "language_info": {
   "codemirror_mode": {
    "name": "ipython",
    "version": 3
   },
   "file_extension": ".py",
   "mimetype": "text/x-python",
   "name": "python",
   "nbconvert_exporter": "python",
   "pygments_lexer": "ipython3",
   "version": "3.8.5-final"
  }
 },
 "nbformat": 4,
 "nbformat_minor": 4
}