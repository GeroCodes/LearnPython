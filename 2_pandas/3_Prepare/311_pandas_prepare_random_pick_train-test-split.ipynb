{
 "cells": [
  {
   "source": [
    "## How to performe a random pick and tain-test-split with pandas?"
   ],
   "cell_type": "markdown",
   "metadata": {}
  },
  {
   "cell_type": "code",
   "execution_count": 1,
   "metadata": {},
   "outputs": [],
   "source": [
    "import pandas as pd"
   ]
  },
  {
   "cell_type": "code",
   "execution_count": 2,
   "metadata": {},
   "outputs": [],
   "source": [
    "#create dataframes\n",
    "ufo_path = 'http://bit.ly/uforeports'\n",
    "train_path = 'http://bit.ly/kaggletrain'\n",
    "ufo = pd.read_csv(ufo_path)\n",
    "train = pd.read_csv(train_path)"
   ]
  },
  {
   "cell_type": "code",
   "execution_count": 3,
   "metadata": {},
   "outputs": [
    {
     "output_type": "execute_result",
     "data": {
      "text/plain": [
       "               City Colors Reported Shape Reported State              Time\n",
       "217    Norridgewock             NaN           DISK    ME   9/15/1952 14:00\n",
       "12282         Ipava             NaN       TRIANGLE    IL   10/1/1998 21:15\n",
       "17933     Ellinwood             NaN       FIREBALL    KS  11/13/2000 22:00\n",
       "9834        Poulsbo             NaN            NaN    WA   12/21/1996 0:00\n",
       "7335        Zebulon             NaN          OTHER    NC   5/15/1994 15:30\n",
       "563          Mohave             NaN          LIGHT    CA   8/15/1959 21:00\n",
       "6504      Calistoga             NaN         SPHERE    CA   2/15/1991 15:00\n",
       "14907     Tehachapi            BLUE        CHEVRON    CA  10/21/1999 13:00\n",
       "12277       Del Mar             NaN       FIREBALL    CA   10/1/1998 16:00\n",
       "7004        Creston             NaN         SPHERE    NC   4/14/1993 21:00"
      ],
      "text/html": "<div>\n<style scoped>\n    .dataframe tbody tr th:only-of-type {\n        vertical-align: middle;\n    }\n\n    .dataframe tbody tr th {\n        vertical-align: top;\n    }\n\n    .dataframe thead th {\n        text-align: right;\n    }\n</style>\n<table border=\"1\" class=\"dataframe\">\n  <thead>\n    <tr style=\"text-align: right;\">\n      <th></th>\n      <th>City</th>\n      <th>Colors Reported</th>\n      <th>Shape Reported</th>\n      <th>State</th>\n      <th>Time</th>\n    </tr>\n  </thead>\n  <tbody>\n    <tr>\n      <th>217</th>\n      <td>Norridgewock</td>\n      <td>NaN</td>\n      <td>DISK</td>\n      <td>ME</td>\n      <td>9/15/1952 14:00</td>\n    </tr>\n    <tr>\n      <th>12282</th>\n      <td>Ipava</td>\n      <td>NaN</td>\n      <td>TRIANGLE</td>\n      <td>IL</td>\n      <td>10/1/1998 21:15</td>\n    </tr>\n    <tr>\n      <th>17933</th>\n      <td>Ellinwood</td>\n      <td>NaN</td>\n      <td>FIREBALL</td>\n      <td>KS</td>\n      <td>11/13/2000 22:00</td>\n    </tr>\n    <tr>\n      <th>9834</th>\n      <td>Poulsbo</td>\n      <td>NaN</td>\n      <td>NaN</td>\n      <td>WA</td>\n      <td>12/21/1996 0:00</td>\n    </tr>\n    <tr>\n      <th>7335</th>\n      <td>Zebulon</td>\n      <td>NaN</td>\n      <td>OTHER</td>\n      <td>NC</td>\n      <td>5/15/1994 15:30</td>\n    </tr>\n    <tr>\n      <th>563</th>\n      <td>Mohave</td>\n      <td>NaN</td>\n      <td>LIGHT</td>\n      <td>CA</td>\n      <td>8/15/1959 21:00</td>\n    </tr>\n    <tr>\n      <th>6504</th>\n      <td>Calistoga</td>\n      <td>NaN</td>\n      <td>SPHERE</td>\n      <td>CA</td>\n      <td>2/15/1991 15:00</td>\n    </tr>\n    <tr>\n      <th>14907</th>\n      <td>Tehachapi</td>\n      <td>BLUE</td>\n      <td>CHEVRON</td>\n      <td>CA</td>\n      <td>10/21/1999 13:00</td>\n    </tr>\n    <tr>\n      <th>12277</th>\n      <td>Del Mar</td>\n      <td>NaN</td>\n      <td>FIREBALL</td>\n      <td>CA</td>\n      <td>10/1/1998 16:00</td>\n    </tr>\n    <tr>\n      <th>7004</th>\n      <td>Creston</td>\n      <td>NaN</td>\n      <td>SPHERE</td>\n      <td>NC</td>\n      <td>4/14/1993 21:00</td>\n    </tr>\n  </tbody>\n</table>\n</div>"
     },
     "metadata": {},
     "execution_count": 3
    }
   ],
   "source": [
    "#IMPORTANT: PANDAS\n",
    "#sample #randomsample #sampling #ML #read #pandas\n",
    "\n",
    "#pick random samples of n=10 out of ufo\n",
    "#random_state = 42 reproduces same set of samples\n",
    "ufo.sample(n=10, random_state=42)"
   ]
  },
  {
   "cell_type": "code",
   "execution_count": 4,
   "metadata": {},
   "outputs": [
    {
     "output_type": "execute_result",
     "data": {
      "text/plain": [
       "                 City Colors Reported Shape Reported State              Time\n",
       "6250        Sunnyvale             NaN          OTHER    CA   12/16/1989 0:00\n",
       "8656   Corpus Christi             NaN            NaN    TX    9/13/1995 0:10\n",
       "2729           Mentor             NaN           DISK    OH    8/8/1974 10:00\n",
       "7348           Wilson             NaN          LIGHT    WI     6/1/1994 1:00\n",
       "12637          Lowell             NaN         CIRCLE    MA  11/26/1998 10:00\n",
       "...               ...             ...            ...   ...               ...\n",
       "12282           Ipava             NaN       TRIANGLE    IL   10/1/1998 21:15\n",
       "18086       Tonawanda             NaN          LIGHT    NY    12/6/2000 4:55\n",
       "17287         Waverly      RED YELLOW          LIGHT    KY    8/25/2000 5:03\n",
       "4986   Virginia Beach             NaN          LIGHT    VA  11/15/1983 17:00\n",
       "2474        Irvington             NaN           OVAL    NJ    8/3/1973 22:00\n",
       "\n",
       "[3648 rows x 5 columns]"
      ],
      "text/html": "<div>\n<style scoped>\n    .dataframe tbody tr th:only-of-type {\n        vertical-align: middle;\n    }\n\n    .dataframe tbody tr th {\n        vertical-align: top;\n    }\n\n    .dataframe thead th {\n        text-align: right;\n    }\n</style>\n<table border=\"1\" class=\"dataframe\">\n  <thead>\n    <tr style=\"text-align: right;\">\n      <th></th>\n      <th>City</th>\n      <th>Colors Reported</th>\n      <th>Shape Reported</th>\n      <th>State</th>\n      <th>Time</th>\n    </tr>\n  </thead>\n  <tbody>\n    <tr>\n      <th>6250</th>\n      <td>Sunnyvale</td>\n      <td>NaN</td>\n      <td>OTHER</td>\n      <td>CA</td>\n      <td>12/16/1989 0:00</td>\n    </tr>\n    <tr>\n      <th>8656</th>\n      <td>Corpus Christi</td>\n      <td>NaN</td>\n      <td>NaN</td>\n      <td>TX</td>\n      <td>9/13/1995 0:10</td>\n    </tr>\n    <tr>\n      <th>2729</th>\n      <td>Mentor</td>\n      <td>NaN</td>\n      <td>DISK</td>\n      <td>OH</td>\n      <td>8/8/1974 10:00</td>\n    </tr>\n    <tr>\n      <th>7348</th>\n      <td>Wilson</td>\n      <td>NaN</td>\n      <td>LIGHT</td>\n      <td>WI</td>\n      <td>6/1/1994 1:00</td>\n    </tr>\n    <tr>\n      <th>12637</th>\n      <td>Lowell</td>\n      <td>NaN</td>\n      <td>CIRCLE</td>\n      <td>MA</td>\n      <td>11/26/1998 10:00</td>\n    </tr>\n    <tr>\n      <th>...</th>\n      <td>...</td>\n      <td>...</td>\n      <td>...</td>\n      <td>...</td>\n      <td>...</td>\n    </tr>\n    <tr>\n      <th>12282</th>\n      <td>Ipava</td>\n      <td>NaN</td>\n      <td>TRIANGLE</td>\n      <td>IL</td>\n      <td>10/1/1998 21:15</td>\n    </tr>\n    <tr>\n      <th>18086</th>\n      <td>Tonawanda</td>\n      <td>NaN</td>\n      <td>LIGHT</td>\n      <td>NY</td>\n      <td>12/6/2000 4:55</td>\n    </tr>\n    <tr>\n      <th>17287</th>\n      <td>Waverly</td>\n      <td>RED YELLOW</td>\n      <td>LIGHT</td>\n      <td>KY</td>\n      <td>8/25/2000 5:03</td>\n    </tr>\n    <tr>\n      <th>4986</th>\n      <td>Virginia Beach</td>\n      <td>NaN</td>\n      <td>LIGHT</td>\n      <td>VA</td>\n      <td>11/15/1983 17:00</td>\n    </tr>\n    <tr>\n      <th>2474</th>\n      <td>Irvington</td>\n      <td>NaN</td>\n      <td>OVAL</td>\n      <td>NJ</td>\n      <td>8/3/1973 22:00</td>\n    </tr>\n  </tbody>\n</table>\n<p>3648 rows × 5 columns</p>\n</div>"
     },
     "metadata": {},
     "execution_count": 4
    }
   ],
   "source": [
    "#IMPORTANT: PANDAS\n",
    "#sample #randomsample #sampling #ML #read #pandas\n",
    "\n",
    "#pick random samples by ratio of 20%\n",
    "ufo.sample(frac=0.20, random_state=99)"
   ]
  },
  {
   "source": [
    "### How to do a Train-Test-Split with Pandas?"
   ],
   "cell_type": "markdown",
   "metadata": {}
  },
  {
   "cell_type": "code",
   "execution_count": 5,
   "metadata": {},
   "outputs": [],
   "source": [
    "#IMPORTANT: PANDAS\n",
    "#sample #randomsample #tilde #sampling #ML #read #pandas\n",
    "\n",
    "#train-test-split with pandas\n",
    "#taking 75% of the dataset for testing\n",
    "train = ufo.sample(frac=0.75, random_state=99)\n",
    "\n",
    "#taking 25% for testing\n",
    "#tilde negatiates the .isin-Function to what isn't in train.index\n",
    "test = ufo.loc[~ufo.index.isin(train.index),:]"
   ]
  }
 ],
 "metadata": {
  "kernelspec": {
   "display_name": "Python 3",
   "language": "python",
   "name": "python3"
  },
  "language_info": {
   "codemirror_mode": {
    "name": "ipython",
    "version": 3
   },
   "file_extension": ".py",
   "mimetype": "text/x-python",
   "name": "python",
   "nbconvert_exporter": "python",
   "pygments_lexer": "ipython3",
   "version": "3.8.5-final"
  }
 },
 "nbformat": 4,
 "nbformat_minor": 4
}