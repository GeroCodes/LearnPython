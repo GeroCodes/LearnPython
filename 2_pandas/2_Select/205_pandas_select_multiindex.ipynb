{
 "cells": [
  {
   "cell_type": "markdown",
   "metadata": {},
   "source": [
    "## How to use MultiIndex in pandas?"
   ]
  },
  {
   "cell_type": "code",
   "execution_count": 1,
   "metadata": {},
   "outputs": [],
   "source": [
    "import pandas as pd"
   ]
  },
  {
   "cell_type": "code",
   "execution_count": 2,
   "metadata": {},
   "outputs": [],
   "source": [
    "#create dataframes\n",
    "train_path = 'http://bit.ly/kaggletrain'\n",
    "stocks_path = 'http://bit.ly/smallstocks'\n",
    "train = pd.read_csv(train_path)\n",
    "stocks = pd.read_csv(stocks_path)"
   ]
  },
  {
   "cell_type": "code",
   "execution_count": 3,
   "metadata": {},
   "outputs": [
    {
     "output_type": "execute_result",
     "data": {
      "text/plain": [
       "         Date   Close    Volume Symbol\n",
       "0  2016-10-03   31.50  14070500   CSCO\n",
       "1  2016-10-03  112.52  21701800   AAPL\n",
       "2  2016-10-03   57.42  19189500   MSFT\n",
       "3  2016-10-04  113.00  29736800   AAPL\n",
       "4  2016-10-04   57.24  20085900   MSFT"
      ],
      "text/html": "<div>\n<style scoped>\n    .dataframe tbody tr th:only-of-type {\n        vertical-align: middle;\n    }\n\n    .dataframe tbody tr th {\n        vertical-align: top;\n    }\n\n    .dataframe thead th {\n        text-align: right;\n    }\n</style>\n<table border=\"1\" class=\"dataframe\">\n  <thead>\n    <tr style=\"text-align: right;\">\n      <th></th>\n      <th>Date</th>\n      <th>Close</th>\n      <th>Volume</th>\n      <th>Symbol</th>\n    </tr>\n  </thead>\n  <tbody>\n    <tr>\n      <th>0</th>\n      <td>2016-10-03</td>\n      <td>31.50</td>\n      <td>14070500</td>\n      <td>CSCO</td>\n    </tr>\n    <tr>\n      <th>1</th>\n      <td>2016-10-03</td>\n      <td>112.52</td>\n      <td>21701800</td>\n      <td>AAPL</td>\n    </tr>\n    <tr>\n      <th>2</th>\n      <td>2016-10-03</td>\n      <td>57.42</td>\n      <td>19189500</td>\n      <td>MSFT</td>\n    </tr>\n    <tr>\n      <th>3</th>\n      <td>2016-10-04</td>\n      <td>113.00</td>\n      <td>29736800</td>\n      <td>AAPL</td>\n    </tr>\n    <tr>\n      <th>4</th>\n      <td>2016-10-04</td>\n      <td>57.24</td>\n      <td>20085900</td>\n      <td>MSFT</td>\n    </tr>\n  </tbody>\n</table>\n</div>"
     },
     "metadata": {},
     "execution_count": 3
    }
   ],
   "source": [
    "stocks.head()"
   ]
  },
  {
   "cell_type": "code",
   "execution_count": 4,
   "metadata": {},
   "outputs": [
    {
     "output_type": "execute_result",
     "data": {
      "text/plain": [
       "RangeIndex(start=0, stop=9, step=1)"
      ]
     },
     "metadata": {},
     "execution_count": 4
    }
   ],
   "source": [
    "stocks.index"
   ]
  },
  {
   "source": [
    "### Show example for MultiIndexing"
   ],
   "cell_type": "markdown",
   "metadata": {}
  },
  {
   "cell_type": "code",
   "execution_count": 5,
   "metadata": {},
   "outputs": [
    {
     "output_type": "execute_result",
     "data": {
      "text/plain": [
       "Symbol\n",
       "AAPL    112.856667\n",
       "CSCO     31.480000\n",
       "MSFT     57.433333\n",
       "Name: Close, dtype: float64"
      ]
     },
     "metadata": {},
     "execution_count": 5
    }
   ],
   "source": [
    "#Groupby a single col: creates an index\n",
    "stocks.groupby('Symbol').Close.mean()"
   ]
  },
  {
   "cell_type": "code",
   "execution_count": 6,
   "metadata": {},
   "outputs": [
    {
     "output_type": "execute_result",
     "data": {
      "text/plain": [
       "Symbol  Date      \n",
       "AAPL    2016-10-03    112.52\n",
       "        2016-10-04    113.00\n",
       "        2016-10-05    113.05\n",
       "CSCO    2016-10-03     31.50\n",
       "        2016-10-04     31.35\n",
       "        2016-10-05     31.59\n",
       "MSFT    2016-10-03     57.42\n",
       "        2016-10-04     57.24\n",
       "        2016-10-05     57.64\n",
       "Name: Close, dtype: float64"
      ]
     },
     "metadata": {},
     "execution_count": 6
    }
   ],
   "source": [
    "#Groupby: 2 cols (creates a multiindex)\n",
    "ser = stocks.groupby(['Symbol','Date']).Close.mean()\n",
    "ser"
   ]
  },
  {
   "cell_type": "code",
   "execution_count": 7,
   "metadata": {},
   "outputs": [
    {
     "output_type": "execute_result",
     "data": {
      "text/plain": [
       "MultiIndex([('AAPL', '2016-10-03'),\n",
       "            ('AAPL', '2016-10-04'),\n",
       "            ('AAPL', '2016-10-05'),\n",
       "            ('CSCO', '2016-10-03'),\n",
       "            ('CSCO', '2016-10-04'),\n",
       "            ('CSCO', '2016-10-05'),\n",
       "            ('MSFT', '2016-10-03'),\n",
       "            ('MSFT', '2016-10-04'),\n",
       "            ('MSFT', '2016-10-05')],\n",
       "           names=['Symbol', 'Date'])"
      ]
     },
     "metadata": {},
     "execution_count": 7
    }
   ],
   "source": [
    "#ser is a series with a multiindex\n",
    "#multiindex adds another dimension to your data\n",
    "#a dataframe with a index has 2 dimensions, with multiindex at least 3 dimensions\n",
    "ser.index"
   ]
  },
  {
   "source": [
    "### Show relationship between unstack() and pivot_table()"
   ],
   "cell_type": "markdown",
   "metadata": {}
  },
  {
   "cell_type": "code",
   "execution_count": 8,
   "metadata": {},
   "outputs": [
    {
     "output_type": "execute_result",
     "data": {
      "text/plain": [
       "Date    2016-10-03  2016-10-04  2016-10-05\n",
       "Symbol                                    \n",
       "AAPL        112.52      113.00      113.05\n",
       "CSCO         31.50       31.35       31.59\n",
       "MSFT         57.42       57.24       57.64"
      ],
      "text/html": "<div>\n<style scoped>\n    .dataframe tbody tr th:only-of-type {\n        vertical-align: middle;\n    }\n\n    .dataframe tbody tr th {\n        vertical-align: top;\n    }\n\n    .dataframe thead th {\n        text-align: right;\n    }\n</style>\n<table border=\"1\" class=\"dataframe\">\n  <thead>\n    <tr style=\"text-align: right;\">\n      <th>Date</th>\n      <th>2016-10-03</th>\n      <th>2016-10-04</th>\n      <th>2016-10-05</th>\n    </tr>\n    <tr>\n      <th>Symbol</th>\n      <th></th>\n      <th></th>\n      <th></th>\n    </tr>\n  </thead>\n  <tbody>\n    <tr>\n      <th>AAPL</th>\n      <td>112.52</td>\n      <td>113.00</td>\n      <td>113.05</td>\n    </tr>\n    <tr>\n      <th>CSCO</th>\n      <td>31.50</td>\n      <td>31.35</td>\n      <td>31.59</td>\n    </tr>\n    <tr>\n      <th>MSFT</th>\n      <td>57.42</td>\n      <td>57.24</td>\n      <td>57.64</td>\n    </tr>\n  </tbody>\n</table>\n</div>"
     },
     "metadata": {},
     "execution_count": 8
    }
   ],
   "source": [
    "#pivot_table created by a groupby (MultiIndex) followed by unstack\n",
    "ser.unstack()"
   ]
  },
  {
   "cell_type": "code",
   "execution_count": 9,
   "metadata": {},
   "outputs": [
    {
     "output_type": "execute_result",
     "data": {
      "text/plain": [
       "Date    2016-10-03  2016-10-04  2016-10-05\n",
       "Symbol                                    \n",
       "AAPL        112.52      113.00      113.05\n",
       "CSCO         31.50       31.35       31.59\n",
       "MSFT         57.42       57.24       57.64"
      ],
      "text/html": "<div>\n<style scoped>\n    .dataframe tbody tr th:only-of-type {\n        vertical-align: middle;\n    }\n\n    .dataframe tbody tr th {\n        vertical-align: top;\n    }\n\n    .dataframe thead th {\n        text-align: right;\n    }\n</style>\n<table border=\"1\" class=\"dataframe\">\n  <thead>\n    <tr style=\"text-align: right;\">\n      <th>Date</th>\n      <th>2016-10-03</th>\n      <th>2016-10-04</th>\n      <th>2016-10-05</th>\n    </tr>\n    <tr>\n      <th>Symbol</th>\n      <th></th>\n      <th></th>\n      <th></th>\n    </tr>\n  </thead>\n  <tbody>\n    <tr>\n      <th>AAPL</th>\n      <td>112.52</td>\n      <td>113.00</td>\n      <td>113.05</td>\n    </tr>\n    <tr>\n      <th>CSCO</th>\n      <td>31.50</td>\n      <td>31.35</td>\n      <td>31.59</td>\n    </tr>\n    <tr>\n      <th>MSFT</th>\n      <td>57.42</td>\n      <td>57.24</td>\n      <td>57.64</td>\n    </tr>\n  </tbody>\n</table>\n</div>"
     },
     "metadata": {},
     "execution_count": 9
    }
   ],
   "source": [
    "#IMPORTANT: PANDAS\n",
    "#pivot_table #multiindex #index #select #prepare #pandas\n",
    "\n",
    "#pivot_table is same as a groupby followed by a unstack-function\n",
    "df = stocks.pivot_table(values='Close', index='Symbol', columns='Date')\n",
    "df"
   ]
  },
  {
   "source": [
    "### How to select from a MultiIndex (series)"
   ],
   "cell_type": "markdown",
   "metadata": {}
  },
  {
   "cell_type": "code",
   "execution_count": 10,
   "metadata": {},
   "outputs": [
    {
     "output_type": "execute_result",
     "data": {
      "text/plain": [
       "Symbol  Date      \n",
       "AAPL    2016-10-03    112.52\n",
       "        2016-10-04    113.00\n",
       "        2016-10-05    113.05\n",
       "CSCO    2016-10-03     31.50\n",
       "        2016-10-04     31.35\n",
       "        2016-10-05     31.59\n",
       "MSFT    2016-10-03     57.42\n",
       "        2016-10-04     57.24\n",
       "        2016-10-05     57.64\n",
       "Name: Close, dtype: float64"
      ]
     },
     "metadata": {},
     "execution_count": 10
    }
   ],
   "source": [
    "#you can change ser to df, works the same\n",
    "ser"
   ]
  },
  {
   "cell_type": "code",
   "execution_count": 11,
   "metadata": {},
   "outputs": [
    {
     "output_type": "execute_result",
     "data": {
      "text/plain": [
       "Date\n",
       "2016-10-03    112.52\n",
       "2016-10-04    113.00\n",
       "2016-10-05    113.05\n",
       "Name: Close, dtype: float64"
      ]
     },
     "metadata": {},
     "execution_count": 11
    }
   ],
   "source": [
    "#select all of the APPL data\n",
    "#selecting by outer level\n",
    "ser.loc['AAPL']"
   ]
  },
  {
   "cell_type": "code",
   "execution_count": 12,
   "metadata": {},
   "outputs": [
    {
     "output_type": "execute_result",
     "data": {
      "text/plain": [
       "112.52"
      ]
     },
     "metadata": {},
     "execution_count": 12
    }
   ],
   "source": [
    "#select APPL and specific date\n",
    "#selecting by outer and inner level\n",
    "ser.loc['AAPL','2016-10-03']"
   ]
  },
  {
   "cell_type": "code",
   "execution_count": 13,
   "metadata": {},
   "outputs": [
    {
     "output_type": "execute_result",
     "data": {
      "text/plain": [
       "Symbol\n",
       "AAPL    112.52\n",
       "CSCO     31.50\n",
       "MSFT     57.42\n",
       "Name: Close, dtype: float64"
      ]
     },
     "metadata": {},
     "execution_count": 13
    }
   ],
   "source": [
    "#selecting by inner level\n",
    "ser.loc[:,'2016-10-03']"
   ]
  },
  {
   "source": [
    "### How to set a MultiIndex"
   ],
   "cell_type": "markdown",
   "metadata": {}
  },
  {
   "cell_type": "code",
   "execution_count": 14,
   "metadata": {},
   "outputs": [
    {
     "output_type": "execute_result",
     "data": {
      "text/plain": [
       "                    Close    Volume\n",
       "Symbol Date                        \n",
       "CSCO   2016-10-03   31.50  14070500\n",
       "AAPL   2016-10-03  112.52  21701800\n",
       "MSFT   2016-10-03   57.42  19189500\n",
       "AAPL   2016-10-04  113.00  29736800\n",
       "MSFT   2016-10-04   57.24  20085900\n",
       "CSCO   2016-10-04   31.35  18460400\n",
       "MSFT   2016-10-05   57.64  16726400\n",
       "CSCO   2016-10-05   31.59  11808600\n",
       "AAPL   2016-10-05  113.05  21453100"
      ],
      "text/html": "<div>\n<style scoped>\n    .dataframe tbody tr th:only-of-type {\n        vertical-align: middle;\n    }\n\n    .dataframe tbody tr th {\n        vertical-align: top;\n    }\n\n    .dataframe thead th {\n        text-align: right;\n    }\n</style>\n<table border=\"1\" class=\"dataframe\">\n  <thead>\n    <tr style=\"text-align: right;\">\n      <th></th>\n      <th></th>\n      <th>Close</th>\n      <th>Volume</th>\n    </tr>\n    <tr>\n      <th>Symbol</th>\n      <th>Date</th>\n      <th></th>\n      <th></th>\n    </tr>\n  </thead>\n  <tbody>\n    <tr>\n      <th>CSCO</th>\n      <th>2016-10-03</th>\n      <td>31.50</td>\n      <td>14070500</td>\n    </tr>\n    <tr>\n      <th>AAPL</th>\n      <th>2016-10-03</th>\n      <td>112.52</td>\n      <td>21701800</td>\n    </tr>\n    <tr>\n      <th>MSFT</th>\n      <th>2016-10-03</th>\n      <td>57.42</td>\n      <td>19189500</td>\n    </tr>\n    <tr>\n      <th>AAPL</th>\n      <th>2016-10-04</th>\n      <td>113.00</td>\n      <td>29736800</td>\n    </tr>\n    <tr>\n      <th>MSFT</th>\n      <th>2016-10-04</th>\n      <td>57.24</td>\n      <td>20085900</td>\n    </tr>\n    <tr>\n      <th>CSCO</th>\n      <th>2016-10-04</th>\n      <td>31.35</td>\n      <td>18460400</td>\n    </tr>\n    <tr>\n      <th>MSFT</th>\n      <th>2016-10-05</th>\n      <td>57.64</td>\n      <td>16726400</td>\n    </tr>\n    <tr>\n      <th>CSCO</th>\n      <th>2016-10-05</th>\n      <td>31.59</td>\n      <td>11808600</td>\n    </tr>\n    <tr>\n      <th>AAPL</th>\n      <th>2016-10-05</th>\n      <td>113.05</td>\n      <td>21453100</td>\n    </tr>\n  </tbody>\n</table>\n</div>"
     },
     "metadata": {},
     "execution_count": 14
    }
   ],
   "source": [
    "#set_index on stocks\n",
    "stocks.set_index(['Symbol','Date'], inplace=True)\n",
    "stocks"
   ]
  },
  {
   "cell_type": "code",
   "execution_count": 15,
   "metadata": {},
   "outputs": [
    {
     "output_type": "execute_result",
     "data": {
      "text/plain": [
       "MultiIndex([('CSCO', '2016-10-03'),\n",
       "            ('AAPL', '2016-10-03'),\n",
       "            ('MSFT', '2016-10-03'),\n",
       "            ('AAPL', '2016-10-04'),\n",
       "            ('MSFT', '2016-10-04'),\n",
       "            ('CSCO', '2016-10-04'),\n",
       "            ('MSFT', '2016-10-05'),\n",
       "            ('CSCO', '2016-10-05'),\n",
       "            ('AAPL', '2016-10-05')],\n",
       "           names=['Symbol', 'Date'])"
      ]
     },
     "metadata": {},
     "execution_count": 15
    }
   ],
   "source": [
    "#show index\n",
    "stocks.index"
   ]
  },
  {
   "cell_type": "code",
   "execution_count": 16,
   "metadata": {},
   "outputs": [
    {
     "output_type": "execute_result",
     "data": {
      "text/plain": [
       "                    Close    Volume\n",
       "Symbol Date                        \n",
       "AAPL   2016-10-03  112.52  21701800\n",
       "       2016-10-04  113.00  29736800\n",
       "       2016-10-05  113.05  21453100\n",
       "CSCO   2016-10-03   31.50  14070500\n",
       "       2016-10-04   31.35  18460400\n",
       "       2016-10-05   31.59  11808600\n",
       "MSFT   2016-10-03   57.42  19189500\n",
       "       2016-10-04   57.24  20085900\n",
       "       2016-10-05   57.64  16726400"
      ],
      "text/html": "<div>\n<style scoped>\n    .dataframe tbody tr th:only-of-type {\n        vertical-align: middle;\n    }\n\n    .dataframe tbody tr th {\n        vertical-align: top;\n    }\n\n    .dataframe thead th {\n        text-align: right;\n    }\n</style>\n<table border=\"1\" class=\"dataframe\">\n  <thead>\n    <tr style=\"text-align: right;\">\n      <th></th>\n      <th></th>\n      <th>Close</th>\n      <th>Volume</th>\n    </tr>\n    <tr>\n      <th>Symbol</th>\n      <th>Date</th>\n      <th></th>\n      <th></th>\n    </tr>\n  </thead>\n  <tbody>\n    <tr>\n      <th rowspan=\"3\" valign=\"top\">AAPL</th>\n      <th>2016-10-03</th>\n      <td>112.52</td>\n      <td>21701800</td>\n    </tr>\n    <tr>\n      <th>2016-10-04</th>\n      <td>113.00</td>\n      <td>29736800</td>\n    </tr>\n    <tr>\n      <th>2016-10-05</th>\n      <td>113.05</td>\n      <td>21453100</td>\n    </tr>\n    <tr>\n      <th rowspan=\"3\" valign=\"top\">CSCO</th>\n      <th>2016-10-03</th>\n      <td>31.50</td>\n      <td>14070500</td>\n    </tr>\n    <tr>\n      <th>2016-10-04</th>\n      <td>31.35</td>\n      <td>18460400</td>\n    </tr>\n    <tr>\n      <th>2016-10-05</th>\n      <td>31.59</td>\n      <td>11808600</td>\n    </tr>\n    <tr>\n      <th rowspan=\"3\" valign=\"top\">MSFT</th>\n      <th>2016-10-03</th>\n      <td>57.42</td>\n      <td>19189500</td>\n    </tr>\n    <tr>\n      <th>2016-10-04</th>\n      <td>57.24</td>\n      <td>20085900</td>\n    </tr>\n    <tr>\n      <th>2016-10-05</th>\n      <td>57.64</td>\n      <td>16726400</td>\n    </tr>\n  </tbody>\n</table>\n</div>"
     },
     "metadata": {},
     "execution_count": 16
    }
   ],
   "source": [
    "#IMPORTANT: PANDAS\n",
    "#sort_index #multiindex #index #select #prepare #pandas\n",
    "\n",
    "#sort_index to optimize dataframe shown\n",
    "stocks.sort_index(inplace=True)\n",
    "stocks"
   ]
  },
  {
   "source": [
    "### How to select from a MultiIndex (dataframe)"
   ],
   "cell_type": "markdown",
   "metadata": {}
  },
  {
   "cell_type": "code",
   "execution_count": 17,
   "metadata": {},
   "outputs": [
    {
     "output_type": "execute_result",
     "data": {
      "text/plain": [
       "             Close    Volume\n",
       "Date                        \n",
       "2016-10-03  112.52  21701800\n",
       "2016-10-04  113.00  29736800\n",
       "2016-10-05  113.05  21453100"
      ],
      "text/html": "<div>\n<style scoped>\n    .dataframe tbody tr th:only-of-type {\n        vertical-align: middle;\n    }\n\n    .dataframe tbody tr th {\n        vertical-align: top;\n    }\n\n    .dataframe thead th {\n        text-align: right;\n    }\n</style>\n<table border=\"1\" class=\"dataframe\">\n  <thead>\n    <tr style=\"text-align: right;\">\n      <th></th>\n      <th>Close</th>\n      <th>Volume</th>\n    </tr>\n    <tr>\n      <th>Date</th>\n      <th></th>\n      <th></th>\n    </tr>\n  </thead>\n  <tbody>\n    <tr>\n      <th>2016-10-03</th>\n      <td>112.52</td>\n      <td>21701800</td>\n    </tr>\n    <tr>\n      <th>2016-10-04</th>\n      <td>113.00</td>\n      <td>29736800</td>\n    </tr>\n    <tr>\n      <th>2016-10-05</th>\n      <td>113.05</td>\n      <td>21453100</td>\n    </tr>\n  </tbody>\n</table>\n</div>"
     },
     "metadata": {},
     "execution_count": 17
    }
   ],
   "source": [
    "#selecting from stocks\n",
    "#selecting outer level\n",
    "stocks.loc['AAPL']"
   ]
  },
  {
   "cell_type": "code",
   "execution_count": 18,
   "metadata": {},
   "outputs": [
    {
     "output_type": "execute_result",
     "data": {
      "text/plain": [
       "Close          112.52\n",
       "Volume    21701800.00\n",
       "Name: (AAPL, 2016-10-03), dtype: float64"
      ]
     },
     "metadata": {},
     "execution_count": 18
    }
   ],
   "source": [
    "#selecting from stocks\n",
    "#selecting outer and inner level\n",
    "stocks.loc['AAPL','2016-10-03']"
   ]
  },
  {
   "cell_type": "code",
   "execution_count": 19,
   "metadata": {},
   "outputs": [
    {
     "output_type": "execute_result",
     "data": {
      "text/plain": [
       "Close          112.52\n",
       "Volume    21701800.00\n",
       "Name: (AAPL, 2016-10-03), dtype: float64"
      ]
     },
     "metadata": {},
     "execution_count": 19
    }
   ],
   "source": [
    "#IMPORTANT: PANDAS\n",
    "#multiindex #index #select #prepare #pandas\n",
    "\n",
    "#selecting outer and inner level: passing multiindex by a tupel\n",
    "stocks.loc[('AAPL','2016-10-03'),:]"
   ]
  },
  {
   "cell_type": "code",
   "execution_count": 20,
   "metadata": {},
   "outputs": [
    {
     "output_type": "execute_result",
     "data": {
      "text/plain": [
       "112.52"
      ]
     },
     "metadata": {},
     "execution_count": 20
    }
   ],
   "source": [
    "stocks.loc[('AAPL','2016-10-03'),'Close']"
   ]
  },
  {
   "cell_type": "code",
   "execution_count": 21,
   "metadata": {},
   "outputs": [
    {
     "output_type": "execute_result",
     "data": {
      "text/plain": [
       "                    Close    Volume\n",
       "Symbol Date                        \n",
       "AAPL   2016-10-03  112.52  21701800\n",
       "MSFT   2016-10-03   57.42  19189500"
      ],
      "text/html": "<div>\n<style scoped>\n    .dataframe tbody tr th:only-of-type {\n        vertical-align: middle;\n    }\n\n    .dataframe tbody tr th {\n        vertical-align: top;\n    }\n\n    .dataframe thead th {\n        text-align: right;\n    }\n</style>\n<table border=\"1\" class=\"dataframe\">\n  <thead>\n    <tr style=\"text-align: right;\">\n      <th></th>\n      <th></th>\n      <th>Close</th>\n      <th>Volume</th>\n    </tr>\n    <tr>\n      <th>Symbol</th>\n      <th>Date</th>\n      <th></th>\n      <th></th>\n    </tr>\n  </thead>\n  <tbody>\n    <tr>\n      <th>AAPL</th>\n      <th>2016-10-03</th>\n      <td>112.52</td>\n      <td>21701800</td>\n    </tr>\n    <tr>\n      <th>MSFT</th>\n      <th>2016-10-03</th>\n      <td>57.42</td>\n      <td>19189500</td>\n    </tr>\n  </tbody>\n</table>\n</div>"
     },
     "metadata": {},
     "execution_count": 21
    }
   ],
   "source": [
    "#IMPORTANT: PANDAS\n",
    "#multiindex #index #select #prepare #pandas\n",
    "\n",
    "#selecting >2 outer level and specific inner level: passing multiindex by a tupel\n",
    "stocks.loc[(['AAPL','MSFT'],'2016-10-03'),:]"
   ]
  },
  {
   "cell_type": "code",
   "execution_count": 22,
   "metadata": {},
   "outputs": [
    {
     "output_type": "execute_result",
     "data": {
      "text/plain": [
       "                    Close    Volume\n",
       "Symbol Date                        \n",
       "AAPL   2016-10-03  112.52  21701800\n",
       "       2016-10-04  113.00  29736800"
      ],
      "text/html": "<div>\n<style scoped>\n    .dataframe tbody tr th:only-of-type {\n        vertical-align: middle;\n    }\n\n    .dataframe tbody tr th {\n        vertical-align: top;\n    }\n\n    .dataframe thead th {\n        text-align: right;\n    }\n</style>\n<table border=\"1\" class=\"dataframe\">\n  <thead>\n    <tr style=\"text-align: right;\">\n      <th></th>\n      <th></th>\n      <th>Close</th>\n      <th>Volume</th>\n    </tr>\n    <tr>\n      <th>Symbol</th>\n      <th>Date</th>\n      <th></th>\n      <th></th>\n    </tr>\n  </thead>\n  <tbody>\n    <tr>\n      <th rowspan=\"2\" valign=\"top\">AAPL</th>\n      <th>2016-10-03</th>\n      <td>112.52</td>\n      <td>21701800</td>\n    </tr>\n    <tr>\n      <th>2016-10-04</th>\n      <td>113.00</td>\n      <td>29736800</td>\n    </tr>\n  </tbody>\n</table>\n</div>"
     },
     "metadata": {},
     "execution_count": 22
    }
   ],
   "source": [
    "#IMPORTANT: PANDAS\n",
    "#multiindex #index #select #prepare #pandas\n",
    "\n",
    "#selecting specific outer level and >2 inner level: passing multiindex by a tupel\n",
    "stocks.loc[('AAPL',['2016-10-03','2016-10-04']),:]"
   ]
  },
  {
   "cell_type": "code",
   "execution_count": 23,
   "metadata": {},
   "outputs": [
    {
     "output_type": "execute_result",
     "data": {
      "text/plain": [
       "                    Close    Volume\n",
       "Symbol Date                        \n",
       "AAPL   2016-10-03  112.52  21701800\n",
       "       2016-10-04  113.00  29736800\n",
       "CSCO   2016-10-03   31.50  14070500\n",
       "       2016-10-04   31.35  18460400\n",
       "MSFT   2016-10-03   57.42  19189500\n",
       "       2016-10-04   57.24  20085900"
      ],
      "text/html": "<div>\n<style scoped>\n    .dataframe tbody tr th:only-of-type {\n        vertical-align: middle;\n    }\n\n    .dataframe tbody tr th {\n        vertical-align: top;\n    }\n\n    .dataframe thead th {\n        text-align: right;\n    }\n</style>\n<table border=\"1\" class=\"dataframe\">\n  <thead>\n    <tr style=\"text-align: right;\">\n      <th></th>\n      <th></th>\n      <th>Close</th>\n      <th>Volume</th>\n    </tr>\n    <tr>\n      <th>Symbol</th>\n      <th>Date</th>\n      <th></th>\n      <th></th>\n    </tr>\n  </thead>\n  <tbody>\n    <tr>\n      <th rowspan=\"2\" valign=\"top\">AAPL</th>\n      <th>2016-10-03</th>\n      <td>112.52</td>\n      <td>21701800</td>\n    </tr>\n    <tr>\n      <th>2016-10-04</th>\n      <td>113.00</td>\n      <td>29736800</td>\n    </tr>\n    <tr>\n      <th rowspan=\"2\" valign=\"top\">CSCO</th>\n      <th>2016-10-03</th>\n      <td>31.50</td>\n      <td>14070500</td>\n    </tr>\n    <tr>\n      <th>2016-10-04</th>\n      <td>31.35</td>\n      <td>18460400</td>\n    </tr>\n    <tr>\n      <th rowspan=\"2\" valign=\"top\">MSFT</th>\n      <th>2016-10-03</th>\n      <td>57.42</td>\n      <td>19189500</td>\n    </tr>\n    <tr>\n      <th>2016-10-04</th>\n      <td>57.24</td>\n      <td>20085900</td>\n    </tr>\n  </tbody>\n</table>\n</div>"
     },
     "metadata": {},
     "execution_count": 23
    }
   ],
   "source": [
    "#IMPORTANT: PANDAS\n",
    "#multiindex #index #select #prepare #pandas\n",
    "\n",
    "#selecting all outer level and >2 inner level: passing multiindex by a tupel\n",
    "stocks.loc[(slice(None),['2016-10-03','2016-10-04']),:]"
   ]
  },
  {
   "source": [
    "### How to merge on >2 indexes"
   ],
   "cell_type": "markdown",
   "metadata": {}
  },
  {
   "cell_type": "code",
   "execution_count": 24,
   "metadata": {},
   "outputs": [
    {
     "output_type": "execute_result",
     "data": {
      "text/plain": [
       "                     Volume\n",
       "Symbol Date                \n",
       "CSCO   2016-10-03  14070500\n",
       "AAPL   2016-10-03  21701800\n",
       "MSFT   2016-10-03  19189500\n",
       "AAPL   2016-10-04  29736800\n",
       "MSFT   2016-10-04  20085900\n",
       "CSCO   2016-10-04  18460400\n",
       "MSFT   2016-10-05  16726400\n",
       "CSCO   2016-10-05  11808600\n",
       "AAPL   2016-10-05  21453100"
      ],
      "text/html": "<div>\n<style scoped>\n    .dataframe tbody tr th:only-of-type {\n        vertical-align: middle;\n    }\n\n    .dataframe tbody tr th {\n        vertical-align: top;\n    }\n\n    .dataframe thead th {\n        text-align: right;\n    }\n</style>\n<table border=\"1\" class=\"dataframe\">\n  <thead>\n    <tr style=\"text-align: right;\">\n      <th></th>\n      <th></th>\n      <th>Volume</th>\n    </tr>\n    <tr>\n      <th>Symbol</th>\n      <th>Date</th>\n      <th></th>\n    </tr>\n  </thead>\n  <tbody>\n    <tr>\n      <th>CSCO</th>\n      <th>2016-10-03</th>\n      <td>14070500</td>\n    </tr>\n    <tr>\n      <th>AAPL</th>\n      <th>2016-10-03</th>\n      <td>21701800</td>\n    </tr>\n    <tr>\n      <th>MSFT</th>\n      <th>2016-10-03</th>\n      <td>19189500</td>\n    </tr>\n    <tr>\n      <th>AAPL</th>\n      <th>2016-10-04</th>\n      <td>29736800</td>\n    </tr>\n    <tr>\n      <th>MSFT</th>\n      <th>2016-10-04</th>\n      <td>20085900</td>\n    </tr>\n    <tr>\n      <th>CSCO</th>\n      <th>2016-10-04</th>\n      <td>18460400</td>\n    </tr>\n    <tr>\n      <th>MSFT</th>\n      <th>2016-10-05</th>\n      <td>16726400</td>\n    </tr>\n    <tr>\n      <th>CSCO</th>\n      <th>2016-10-05</th>\n      <td>11808600</td>\n    </tr>\n    <tr>\n      <th>AAPL</th>\n      <th>2016-10-05</th>\n      <td>21453100</td>\n    </tr>\n  </tbody>\n</table>\n</div>"
     },
     "metadata": {},
     "execution_count": 24
    }
   ],
   "source": [
    "#create a dataframe 'volume'\n",
    "volume = pd.read_csv(stocks_path, usecols=[0,2,3],index_col=['Symbol','Date'])\n",
    "volume"
   ]
  },
  {
   "cell_type": "code",
   "execution_count": 25,
   "metadata": {},
   "outputs": [
    {
     "output_type": "execute_result",
     "data": {
      "text/plain": [
       "                    Close\n",
       "Symbol Date              \n",
       "CSCO   2016-10-03   31.50\n",
       "AAPL   2016-10-03  112.52\n",
       "MSFT   2016-10-03   57.42\n",
       "AAPL   2016-10-04  113.00\n",
       "MSFT   2016-10-04   57.24\n",
       "CSCO   2016-10-04   31.35\n",
       "MSFT   2016-10-05   57.64\n",
       "CSCO   2016-10-05   31.59\n",
       "AAPL   2016-10-05  113.05"
      ],
      "text/html": "<div>\n<style scoped>\n    .dataframe tbody tr th:only-of-type {\n        vertical-align: middle;\n    }\n\n    .dataframe tbody tr th {\n        vertical-align: top;\n    }\n\n    .dataframe thead th {\n        text-align: right;\n    }\n</style>\n<table border=\"1\" class=\"dataframe\">\n  <thead>\n    <tr style=\"text-align: right;\">\n      <th></th>\n      <th></th>\n      <th>Close</th>\n    </tr>\n    <tr>\n      <th>Symbol</th>\n      <th>Date</th>\n      <th></th>\n    </tr>\n  </thead>\n  <tbody>\n    <tr>\n      <th>CSCO</th>\n      <th>2016-10-03</th>\n      <td>31.50</td>\n    </tr>\n    <tr>\n      <th>AAPL</th>\n      <th>2016-10-03</th>\n      <td>112.52</td>\n    </tr>\n    <tr>\n      <th>MSFT</th>\n      <th>2016-10-03</th>\n      <td>57.42</td>\n    </tr>\n    <tr>\n      <th>AAPL</th>\n      <th>2016-10-04</th>\n      <td>113.00</td>\n    </tr>\n    <tr>\n      <th>MSFT</th>\n      <th>2016-10-04</th>\n      <td>57.24</td>\n    </tr>\n    <tr>\n      <th>CSCO</th>\n      <th>2016-10-04</th>\n      <td>31.35</td>\n    </tr>\n    <tr>\n      <th>MSFT</th>\n      <th>2016-10-05</th>\n      <td>57.64</td>\n    </tr>\n    <tr>\n      <th>CSCO</th>\n      <th>2016-10-05</th>\n      <td>31.59</td>\n    </tr>\n    <tr>\n      <th>AAPL</th>\n      <th>2016-10-05</th>\n      <td>113.05</td>\n    </tr>\n  </tbody>\n</table>\n</div>"
     },
     "metadata": {},
     "execution_count": 25
    }
   ],
   "source": [
    "#create a dataframe 'close'\n",
    "close = pd.read_csv(stocks_path, usecols=[0,1,3],index_col=['Symbol','Date'])\n",
    "close"
   ]
  },
  {
   "cell_type": "code",
   "execution_count": 26,
   "metadata": {},
   "outputs": [
    {
     "output_type": "execute_result",
     "data": {
      "text/plain": [
       "                    Close    Volume\n",
       "Symbol Date                        \n",
       "AAPL   2016-10-03  112.52  21701800\n",
       "       2016-10-04  113.00  29736800\n",
       "       2016-10-05  113.05  21453100\n",
       "CSCO   2016-10-03   31.50  14070500\n",
       "       2016-10-04   31.35  18460400\n",
       "       2016-10-05   31.59  11808600\n",
       "MSFT   2016-10-03   57.42  19189500\n",
       "       2016-10-04   57.24  20085900\n",
       "       2016-10-05   57.64  16726400"
      ],
      "text/html": "<div>\n<style scoped>\n    .dataframe tbody tr th:only-of-type {\n        vertical-align: middle;\n    }\n\n    .dataframe tbody tr th {\n        vertical-align: top;\n    }\n\n    .dataframe thead th {\n        text-align: right;\n    }\n</style>\n<table border=\"1\" class=\"dataframe\">\n  <thead>\n    <tr style=\"text-align: right;\">\n      <th></th>\n      <th></th>\n      <th>Close</th>\n      <th>Volume</th>\n    </tr>\n    <tr>\n      <th>Symbol</th>\n      <th>Date</th>\n      <th></th>\n      <th></th>\n    </tr>\n  </thead>\n  <tbody>\n    <tr>\n      <th rowspan=\"3\" valign=\"top\">AAPL</th>\n      <th>2016-10-03</th>\n      <td>112.52</td>\n      <td>21701800</td>\n    </tr>\n    <tr>\n      <th>2016-10-04</th>\n      <td>113.00</td>\n      <td>29736800</td>\n    </tr>\n    <tr>\n      <th>2016-10-05</th>\n      <td>113.05</td>\n      <td>21453100</td>\n    </tr>\n    <tr>\n      <th rowspan=\"3\" valign=\"top\">CSCO</th>\n      <th>2016-10-03</th>\n      <td>31.50</td>\n      <td>14070500</td>\n    </tr>\n    <tr>\n      <th>2016-10-04</th>\n      <td>31.35</td>\n      <td>18460400</td>\n    </tr>\n    <tr>\n      <th>2016-10-05</th>\n      <td>31.59</td>\n      <td>11808600</td>\n    </tr>\n    <tr>\n      <th rowspan=\"3\" valign=\"top\">MSFT</th>\n      <th>2016-10-03</th>\n      <td>57.42</td>\n      <td>19189500</td>\n    </tr>\n    <tr>\n      <th>2016-10-04</th>\n      <td>57.24</td>\n      <td>20085900</td>\n    </tr>\n    <tr>\n      <th>2016-10-05</th>\n      <td>57.64</td>\n      <td>16726400</td>\n    </tr>\n  </tbody>\n</table>\n</div>"
     },
     "metadata": {},
     "execution_count": 26
    }
   ],
   "source": [
    "#IMPORTANT: PANDAS\n",
    "#merge #multiindex #index #select #prepare #pandas\n",
    "\n",
    "#merge on multiindex\n",
    "both = pd.merge(close,volume, left_index=True, right_index=True)\n",
    "both.sort_index(inplace=True)\n",
    "both"
   ]
  },
  {
   "cell_type": "code",
   "execution_count": 27,
   "metadata": {},
   "outputs": [
    {
     "output_type": "execute_result",
     "data": {
      "text/plain": [
       "  Symbol        Date   Close    Volume\n",
       "0   AAPL  2016-10-03  112.52  21701800\n",
       "1   AAPL  2016-10-04  113.00  29736800\n",
       "2   AAPL  2016-10-05  113.05  21453100\n",
       "3   CSCO  2016-10-03   31.50  14070500\n",
       "4   CSCO  2016-10-04   31.35  18460400\n",
       "5   CSCO  2016-10-05   31.59  11808600\n",
       "6   MSFT  2016-10-03   57.42  19189500\n",
       "7   MSFT  2016-10-04   57.24  20085900\n",
       "8   MSFT  2016-10-05   57.64  16726400"
      ],
      "text/html": "<div>\n<style scoped>\n    .dataframe tbody tr th:only-of-type {\n        vertical-align: middle;\n    }\n\n    .dataframe tbody tr th {\n        vertical-align: top;\n    }\n\n    .dataframe thead th {\n        text-align: right;\n    }\n</style>\n<table border=\"1\" class=\"dataframe\">\n  <thead>\n    <tr style=\"text-align: right;\">\n      <th></th>\n      <th>Symbol</th>\n      <th>Date</th>\n      <th>Close</th>\n      <th>Volume</th>\n    </tr>\n  </thead>\n  <tbody>\n    <tr>\n      <th>0</th>\n      <td>AAPL</td>\n      <td>2016-10-03</td>\n      <td>112.52</td>\n      <td>21701800</td>\n    </tr>\n    <tr>\n      <th>1</th>\n      <td>AAPL</td>\n      <td>2016-10-04</td>\n      <td>113.00</td>\n      <td>29736800</td>\n    </tr>\n    <tr>\n      <th>2</th>\n      <td>AAPL</td>\n      <td>2016-10-05</td>\n      <td>113.05</td>\n      <td>21453100</td>\n    </tr>\n    <tr>\n      <th>3</th>\n      <td>CSCO</td>\n      <td>2016-10-03</td>\n      <td>31.50</td>\n      <td>14070500</td>\n    </tr>\n    <tr>\n      <th>4</th>\n      <td>CSCO</td>\n      <td>2016-10-04</td>\n      <td>31.35</td>\n      <td>18460400</td>\n    </tr>\n    <tr>\n      <th>5</th>\n      <td>CSCO</td>\n      <td>2016-10-05</td>\n      <td>31.59</td>\n      <td>11808600</td>\n    </tr>\n    <tr>\n      <th>6</th>\n      <td>MSFT</td>\n      <td>2016-10-03</td>\n      <td>57.42</td>\n      <td>19189500</td>\n    </tr>\n    <tr>\n      <th>7</th>\n      <td>MSFT</td>\n      <td>2016-10-04</td>\n      <td>57.24</td>\n      <td>20085900</td>\n    </tr>\n    <tr>\n      <th>8</th>\n      <td>MSFT</td>\n      <td>2016-10-05</td>\n      <td>57.64</td>\n      <td>16726400</td>\n    </tr>\n  </tbody>\n</table>\n</div>"
     },
     "metadata": {},
     "execution_count": 27
    }
   ],
   "source": [
    "#IMPORTANT: PANDAS\n",
    "#principles of tidy data\n",
    "#1: each variable must have its own col\n",
    "#2: each observation must have its own row\n",
    "#3: each value must have its own cell\n",
    "#index can be reseted\n",
    "both.reset_index()"
   ]
  },
  {
   "source": [
    "### How to reshape a MultiIndexed series?"
   ],
   "cell_type": "markdown",
   "metadata": {}
  },
  {
   "cell_type": "code",
   "execution_count": 28,
   "metadata": {},
   "outputs": [
    {
     "output_type": "execute_result",
     "data": {
      "text/plain": [
       "Pclass         1         2         3\n",
       "Sex                                 \n",
       "female  0.968085  0.921053  0.500000\n",
       "male    0.368852  0.157407  0.135447"
      ],
      "text/html": "<div>\n<style scoped>\n    .dataframe tbody tr th:only-of-type {\n        vertical-align: middle;\n    }\n\n    .dataframe tbody tr th {\n        vertical-align: top;\n    }\n\n    .dataframe thead th {\n        text-align: right;\n    }\n</style>\n<table border=\"1\" class=\"dataframe\">\n  <thead>\n    <tr style=\"text-align: right;\">\n      <th>Pclass</th>\n      <th>1</th>\n      <th>2</th>\n      <th>3</th>\n    </tr>\n    <tr>\n      <th>Sex</th>\n      <th></th>\n      <th></th>\n      <th></th>\n    </tr>\n  </thead>\n  <tbody>\n    <tr>\n      <th>female</th>\n      <td>0.968085</td>\n      <td>0.921053</td>\n      <td>0.500000</td>\n    </tr>\n    <tr>\n      <th>male</th>\n      <td>0.368852</td>\n      <td>0.157407</td>\n      <td>0.135447</td>\n    </tr>\n  </tbody>\n</table>\n</div>"
     },
     "metadata": {},
     "execution_count": 28
    }
   ],
   "source": [
    "#IMPORTANT: PANDAS\n",
    "#unstack #multiindex #reshape #index #select #prepare #pandas\n",
    "\n",
    "#reshape a multiindex dataframe with unstack\n",
    "train.groupby(['Sex','Pclass']).Survived.mean().unstack()"
   ]
  },
  {
   "source": [
    "### How to create a pivot table?"
   ],
   "cell_type": "markdown",
   "metadata": {}
  },
  {
   "cell_type": "code",
   "execution_count": 29,
   "metadata": {},
   "outputs": [
    {
     "output_type": "execute_result",
     "data": {
      "text/plain": [
       "Pclass    1    2    3  All\n",
       "Sex                       \n",
       "female   94   76  144  314\n",
       "male    122  108  347  577\n",
       "All     216  184  491  891"
      ],
      "text/html": "<div>\n<style scoped>\n    .dataframe tbody tr th:only-of-type {\n        vertical-align: middle;\n    }\n\n    .dataframe tbody tr th {\n        vertical-align: top;\n    }\n\n    .dataframe thead th {\n        text-align: right;\n    }\n</style>\n<table border=\"1\" class=\"dataframe\">\n  <thead>\n    <tr style=\"text-align: right;\">\n      <th>Pclass</th>\n      <th>1</th>\n      <th>2</th>\n      <th>3</th>\n      <th>All</th>\n    </tr>\n    <tr>\n      <th>Sex</th>\n      <th></th>\n      <th></th>\n      <th></th>\n      <th></th>\n    </tr>\n  </thead>\n  <tbody>\n    <tr>\n      <th>female</th>\n      <td>94</td>\n      <td>76</td>\n      <td>144</td>\n      <td>314</td>\n    </tr>\n    <tr>\n      <th>male</th>\n      <td>122</td>\n      <td>108</td>\n      <td>347</td>\n      <td>577</td>\n    </tr>\n    <tr>\n      <th>All</th>\n      <td>216</td>\n      <td>184</td>\n      <td>491</td>\n      <td>891</td>\n    </tr>\n  </tbody>\n</table>\n</div>"
     },
     "metadata": {},
     "execution_count": 29
    }
   ],
   "source": [
    "#IMPORTANT: PANDAS\n",
    "#pivot_table #multiindex #reshape #index #select #prepare #pandas\n",
    "\n",
    "#margins=True sets totals of rows and cols\n",
    "train.pivot_table(index='Sex', columns='Pclass', values='Survived', aggfunc='count', margins=True)"
   ]
  }
 ],
 "metadata": {
  "kernelspec": {
   "display_name": "Python 3",
   "language": "python",
   "name": "python3"
  },
  "language_info": {
   "codemirror_mode": {
    "name": "ipython",
    "version": 3
   },
   "file_extension": ".py",
   "mimetype": "text/x-python",
   "name": "python",
   "nbconvert_exporter": "python",
   "pygments_lexer": "ipython3",
   "version": "3.8.5-final"
  }
 },
 "nbformat": 4,
 "nbformat_minor": 4
}