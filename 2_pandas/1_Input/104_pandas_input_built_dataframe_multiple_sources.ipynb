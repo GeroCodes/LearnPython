{
 "cells": [
  {
   "source": [
    "## How to build a DataFrame from multiple files (row-wise)?"
   ],
   "cell_type": "markdown",
   "metadata": {}
  },
  {
   "cell_type": "code",
   "execution_count": 1,
   "metadata": {},
   "outputs": [],
   "source": [
    "import pandas as pd"
   ]
  },
  {
   "cell_type": "code",
   "execution_count": 2,
   "metadata": {},
   "outputs": [
    {
     "output_type": "execute_result",
     "data": {
      "text/plain": [
       "         date ticker  price\n",
       "0  2020-12-03   AAPL  13,45\n",
       "1  2020-12-03   MSFT   33,3\n",
       "2  2020-12-03   GOOG   23,1"
      ],
      "text/html": "<div>\n<style scoped>\n    .dataframe tbody tr th:only-of-type {\n        vertical-align: middle;\n    }\n\n    .dataframe tbody tr th {\n        vertical-align: top;\n    }\n\n    .dataframe thead th {\n        text-align: right;\n    }\n</style>\n<table border=\"1\" class=\"dataframe\">\n  <thead>\n    <tr style=\"text-align: right;\">\n      <th></th>\n      <th>date</th>\n      <th>ticker</th>\n      <th>price</th>\n    </tr>\n  </thead>\n  <tbody>\n    <tr>\n      <th>0</th>\n      <td>2020-12-03</td>\n      <td>AAPL</td>\n      <td>13,45</td>\n    </tr>\n    <tr>\n      <th>1</th>\n      <td>2020-12-03</td>\n      <td>MSFT</td>\n      <td>33,3</td>\n    </tr>\n    <tr>\n      <th>2</th>\n      <td>2020-12-03</td>\n      <td>GOOG</td>\n      <td>23,1</td>\n    </tr>\n  </tbody>\n</table>\n</div>"
     },
     "metadata": {},
     "execution_count": 2
    }
   ],
   "source": [
    "#create dataframes\n",
    "pd.read_csv('stocks1.csv', sep=';', usecols=['date','ticker','price'])\n",
    "pd.read_csv('stocks2.csv', sep=';', usecols=['date','ticker','price'])\n",
    "pd.read_csv('stocks3.csv', sep=';', usecols=['date','ticker','price'])"
   ]
  },
  {
   "cell_type": "code",
   "execution_count": 3,
   "metadata": {},
   "outputs": [
    {
     "output_type": "execute_result",
     "data": {
      "text/plain": [
       "['stocks1.csv', 'stocks2.csv', 'stocks3.csv']"
      ]
     },
     "metadata": {},
     "execution_count": 3
    }
   ],
   "source": [
    "#IMPORTANT: PANDAS\n",
    "#glob #sorted #read #pandas\n",
    "#built-in glob-modul\n",
    "#will return all files which match pattern stocks*.csv\n",
    "#glob returns filenames in an arbitrary order, so we use sorted\n",
    "from glob import glob\n",
    "stock_files = sorted(glob('stocks*.csv'))\n",
    "stock_files"
   ]
  },
  {
   "cell_type": "code",
   "execution_count": 4,
   "metadata": {},
   "outputs": [
    {
     "output_type": "execute_result",
     "data": {
      "text/plain": [
       "         date ticker  price\n",
       "0  2020-12-01   AAPL  12,34\n",
       "1  2020-12-01   MSFT     34\n",
       "2  2020-12-01   GOOG     23\n",
       "3  2020-12-02   AAPL   13,4\n",
       "4  2020-12-02   MSFT   33,2\n",
       "5  2020-12-02   GOOG   23,3\n",
       "6  2020-12-03   AAPL  13,45\n",
       "7  2020-12-03   MSFT   33,3\n",
       "8  2020-12-03   GOOG   23,1"
      ],
      "text/html": "<div>\n<style scoped>\n    .dataframe tbody tr th:only-of-type {\n        vertical-align: middle;\n    }\n\n    .dataframe tbody tr th {\n        vertical-align: top;\n    }\n\n    .dataframe thead th {\n        text-align: right;\n    }\n</style>\n<table border=\"1\" class=\"dataframe\">\n  <thead>\n    <tr style=\"text-align: right;\">\n      <th></th>\n      <th>date</th>\n      <th>ticker</th>\n      <th>price</th>\n    </tr>\n  </thead>\n  <tbody>\n    <tr>\n      <th>0</th>\n      <td>2020-12-01</td>\n      <td>AAPL</td>\n      <td>12,34</td>\n    </tr>\n    <tr>\n      <th>1</th>\n      <td>2020-12-01</td>\n      <td>MSFT</td>\n      <td>34</td>\n    </tr>\n    <tr>\n      <th>2</th>\n      <td>2020-12-01</td>\n      <td>GOOG</td>\n      <td>23</td>\n    </tr>\n    <tr>\n      <th>3</th>\n      <td>2020-12-02</td>\n      <td>AAPL</td>\n      <td>13,4</td>\n    </tr>\n    <tr>\n      <th>4</th>\n      <td>2020-12-02</td>\n      <td>MSFT</td>\n      <td>33,2</td>\n    </tr>\n    <tr>\n      <th>5</th>\n      <td>2020-12-02</td>\n      <td>GOOG</td>\n      <td>23,3</td>\n    </tr>\n    <tr>\n      <th>6</th>\n      <td>2020-12-03</td>\n      <td>AAPL</td>\n      <td>13,45</td>\n    </tr>\n    <tr>\n      <th>7</th>\n      <td>2020-12-03</td>\n      <td>MSFT</td>\n      <td>33,3</td>\n    </tr>\n    <tr>\n      <th>8</th>\n      <td>2020-12-03</td>\n      <td>GOOG</td>\n      <td>23,1</td>\n    </tr>\n  </tbody>\n</table>\n</div>"
     },
     "metadata": {},
     "execution_count": 4
    }
   ],
   "source": [
    "#IMPORTANT: PANDAS\n",
    "#glob #sorted #index #row #row-wise #concat #read #pandas\n",
    "#using generator expression to reach each of the files using read_csv\n",
    "#pass the results to concat which will concatenate the rows into a df\n",
    "\n",
    "#commented method will keep the indexes\n",
    "#pd.concat((pd.read_csv(file, sep=';', usecols=['date','ticker','price']) for file in stock_files))\n",
    "pd.concat((pd.read_csv(file, sep=';', usecols=['date','ticker','price']) for file in stock_files), ignore_index=True)"
   ]
  },
  {
   "source": [
    "## How to build a DataFrame from multiple files (col-wise)?"
   ],
   "cell_type": "markdown",
   "metadata": {}
  },
  {
   "cell_type": "code",
   "execution_count": 5,
   "metadata": {},
   "outputs": [
    {
     "output_type": "execute_result",
     "data": {
      "text/plain": [
       "         date ticker  price\n",
       "0  2020-12-01   AAPL  12,34\n",
       "1  2020-12-01   MSFT     34\n",
       "2  2020-12-01   GOOG     23"
      ],
      "text/html": "<div>\n<style scoped>\n    .dataframe tbody tr th:only-of-type {\n        vertical-align: middle;\n    }\n\n    .dataframe tbody tr th {\n        vertical-align: top;\n    }\n\n    .dataframe thead th {\n        text-align: right;\n    }\n</style>\n<table border=\"1\" class=\"dataframe\">\n  <thead>\n    <tr style=\"text-align: right;\">\n      <th></th>\n      <th>date</th>\n      <th>ticker</th>\n      <th>price</th>\n    </tr>\n  </thead>\n  <tbody>\n    <tr>\n      <th>0</th>\n      <td>2020-12-01</td>\n      <td>AAPL</td>\n      <td>12,34</td>\n    </tr>\n    <tr>\n      <th>1</th>\n      <td>2020-12-01</td>\n      <td>MSFT</td>\n      <td>34</td>\n    </tr>\n    <tr>\n      <th>2</th>\n      <td>2020-12-01</td>\n      <td>GOOG</td>\n      <td>23</td>\n    </tr>\n  </tbody>\n</table>\n</div>"
     },
     "metadata": {},
     "execution_count": 5
    }
   ],
   "source": [
    "pd.read_csv('stocks1.csv', sep=';', usecols=['date','ticker','price'])"
   ]
  },
  {
   "cell_type": "code",
   "execution_count": 6,
   "metadata": {},
   "outputs": [
    {
     "output_type": "execute_result",
     "data": {
      "text/plain": [
       "         date ticker price\n",
       "0  2020-12-02   AAPL  13,4\n",
       "1  2020-12-02   MSFT  33,2\n",
       "2  2020-12-02   GOOG  23,3"
      ],
      "text/html": "<div>\n<style scoped>\n    .dataframe tbody tr th:only-of-type {\n        vertical-align: middle;\n    }\n\n    .dataframe tbody tr th {\n        vertical-align: top;\n    }\n\n    .dataframe thead th {\n        text-align: right;\n    }\n</style>\n<table border=\"1\" class=\"dataframe\">\n  <thead>\n    <tr style=\"text-align: right;\">\n      <th></th>\n      <th>date</th>\n      <th>ticker</th>\n      <th>price</th>\n    </tr>\n  </thead>\n  <tbody>\n    <tr>\n      <th>0</th>\n      <td>2020-12-02</td>\n      <td>AAPL</td>\n      <td>13,4</td>\n    </tr>\n    <tr>\n      <th>1</th>\n      <td>2020-12-02</td>\n      <td>MSFT</td>\n      <td>33,2</td>\n    </tr>\n    <tr>\n      <th>2</th>\n      <td>2020-12-02</td>\n      <td>GOOG</td>\n      <td>23,3</td>\n    </tr>\n  </tbody>\n</table>\n</div>"
     },
     "metadata": {},
     "execution_count": 6
    }
   ],
   "source": [
    "pd.read_csv('stocks2.csv', sep=';', usecols=['date','ticker','price'])"
   ]
  },
  {
   "cell_type": "code",
   "execution_count": 7,
   "metadata": {},
   "outputs": [],
   "source": [
    "stocks_files = sorted(glob('stocks*.csv'))"
   ]
  },
  {
   "cell_type": "code",
   "execution_count": 8,
   "metadata": {},
   "outputs": [
    {
     "output_type": "execute_result",
     "data": {
      "text/plain": [
       "         date ticker  price        date ticker price        date ticker  price\n",
       "0  2020-12-01   AAPL  12,34  2020-12-02   AAPL  13,4  2020-12-03   AAPL  13,45\n",
       "1  2020-12-01   MSFT     34  2020-12-02   MSFT  33,2  2020-12-03   MSFT   33,3\n",
       "2  2020-12-01   GOOG     23  2020-12-02   GOOG  23,3  2020-12-03   GOOG   23,1"
      ],
      "text/html": "<div>\n<style scoped>\n    .dataframe tbody tr th:only-of-type {\n        vertical-align: middle;\n    }\n\n    .dataframe tbody tr th {\n        vertical-align: top;\n    }\n\n    .dataframe thead th {\n        text-align: right;\n    }\n</style>\n<table border=\"1\" class=\"dataframe\">\n  <thead>\n    <tr style=\"text-align: right;\">\n      <th></th>\n      <th>date</th>\n      <th>ticker</th>\n      <th>price</th>\n      <th>date</th>\n      <th>ticker</th>\n      <th>price</th>\n      <th>date</th>\n      <th>ticker</th>\n      <th>price</th>\n    </tr>\n  </thead>\n  <tbody>\n    <tr>\n      <th>0</th>\n      <td>2020-12-01</td>\n      <td>AAPL</td>\n      <td>12,34</td>\n      <td>2020-12-02</td>\n      <td>AAPL</td>\n      <td>13,4</td>\n      <td>2020-12-03</td>\n      <td>AAPL</td>\n      <td>13,45</td>\n    </tr>\n    <tr>\n      <th>1</th>\n      <td>2020-12-01</td>\n      <td>MSFT</td>\n      <td>34</td>\n      <td>2020-12-02</td>\n      <td>MSFT</td>\n      <td>33,2</td>\n      <td>2020-12-03</td>\n      <td>MSFT</td>\n      <td>33,3</td>\n    </tr>\n    <tr>\n      <th>2</th>\n      <td>2020-12-01</td>\n      <td>GOOG</td>\n      <td>23</td>\n      <td>2020-12-02</td>\n      <td>GOOG</td>\n      <td>23,3</td>\n      <td>2020-12-03</td>\n      <td>GOOG</td>\n      <td>23,1</td>\n    </tr>\n  </tbody>\n</table>\n</div>"
     },
     "metadata": {},
     "execution_count": 8
    }
   ],
   "source": [
    "#IMPORTANT: PANDAS\n",
    "#glob #sorted #cols #col-wise #concat #read #pandas\n",
    "#using generator expression to reach each of the files using read_csv\n",
    "#pass the results to concat which will concatenate the rows into a df\n",
    "\n",
    "pd.concat((pd.read_csv(file, sep=';', usecols=['date','ticker','price']) for file in stocks_files), axis='columns')"
   ]
  }
 ],
 "metadata": {
  "kernelspec": {
   "display_name": "Python 3",
   "language": "python",
   "name": "python3"
  },
  "language_info": {
   "codemirror_mode": {
    "name": "ipython",
    "version": 3
   },
   "file_extension": ".py",
   "mimetype": "text/x-python",
   "name": "python",
   "nbconvert_exporter": "python",
   "pygments_lexer": "ipython3",
   "version": "3.8.5-final"
  }
 },
 "nbformat": 4,
 "nbformat_minor": 4
}