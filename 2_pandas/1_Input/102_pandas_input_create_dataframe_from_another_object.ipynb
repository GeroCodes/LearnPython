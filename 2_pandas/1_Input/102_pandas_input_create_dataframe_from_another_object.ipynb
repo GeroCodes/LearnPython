{
 "cells": [
  {
   "cell_type": "markdown",
   "metadata": {},
   "source": [
    "## How to create a pandas dataframe from another object?"
   ]
  },
  {
   "cell_type": "code",
   "execution_count": 1,
   "metadata": {},
   "outputs": [],
   "source": [
    "import pandas as pd\n",
    "import numpy as np"
   ]
  },
  {
   "cell_type": "code",
   "execution_count": 2,
   "metadata": {},
   "outputs": [
    {
     "output_type": "execute_result",
     "data": {
      "text/plain": [
       "    id color\n",
       "a  100   red\n",
       "b  101  blue\n",
       "c  102   red"
      ],
      "text/html": "<div>\n<style scoped>\n    .dataframe tbody tr th:only-of-type {\n        vertical-align: middle;\n    }\n\n    .dataframe tbody tr th {\n        vertical-align: top;\n    }\n\n    .dataframe thead th {\n        text-align: right;\n    }\n</style>\n<table border=\"1\" class=\"dataframe\">\n  <thead>\n    <tr style=\"text-align: right;\">\n      <th></th>\n      <th>id</th>\n      <th>color</th>\n    </tr>\n  </thead>\n  <tbody>\n    <tr>\n      <th>a</th>\n      <td>100</td>\n      <td>red</td>\n    </tr>\n    <tr>\n      <th>b</th>\n      <td>101</td>\n      <td>blue</td>\n    </tr>\n    <tr>\n      <th>c</th>\n      <td>102</td>\n      <td>red</td>\n    </tr>\n  </tbody>\n</table>\n</div>"
     },
     "metadata": {},
     "execution_count": 2
    }
   ],
   "source": [
    "#create dataframe with dicts\n",
    "df = pd.DataFrame({'id':[100,101,102], 'color':['red','blue','red']},\n",
    "columns=['id','color'],index=['a','b','c'])\n",
    "df"
   ]
  },
  {
   "cell_type": "code",
   "execution_count": 3,
   "metadata": {},
   "outputs": [
    {
     "output_type": "execute_result",
     "data": {
      "text/plain": [
       "    id color\n",
       "0  100   red\n",
       "1  101  blue\n",
       "2  102   red"
      ],
      "text/html": "<div>\n<style scoped>\n    .dataframe tbody tr th:only-of-type {\n        vertical-align: middle;\n    }\n\n    .dataframe tbody tr th {\n        vertical-align: top;\n    }\n\n    .dataframe thead th {\n        text-align: right;\n    }\n</style>\n<table border=\"1\" class=\"dataframe\">\n  <thead>\n    <tr style=\"text-align: right;\">\n      <th></th>\n      <th>id</th>\n      <th>color</th>\n    </tr>\n  </thead>\n  <tbody>\n    <tr>\n      <th>0</th>\n      <td>100</td>\n      <td>red</td>\n    </tr>\n    <tr>\n      <th>1</th>\n      <td>101</td>\n      <td>blue</td>\n    </tr>\n    <tr>\n      <th>2</th>\n      <td>102</td>\n      <td>red</td>\n    </tr>\n  </tbody>\n</table>\n</div>"
     },
     "metadata": {},
     "execution_count": 3
    }
   ],
   "source": [
    "#create dataframe with bunch of lists\n",
    "pd.DataFrame([[100,'red'],[101, 'blue'],[102,'red']], columns=['id','color'])"
   ]
  },
  {
   "cell_type": "code",
   "execution_count": 4,
   "metadata": {},
   "outputs": [
    {
     "output_type": "execute_result",
     "data": {
      "text/plain": [
       "array([[0.61089129, 0.91714523],\n",
       "       [0.56284621, 0.68418151],\n",
       "       [0.32284376, 0.17197085],\n",
       "       [0.96352494, 0.73321391]])"
      ]
     },
     "metadata": {},
     "execution_count": 4
    }
   ],
   "source": [
    "#create numpy-array\n",
    "arr = np.random.rand(4,2)\n",
    "arr"
   ]
  },
  {
   "cell_type": "code",
   "execution_count": 5,
   "metadata": {},
   "outputs": [
    {
     "output_type": "execute_result",
     "data": {
      "text/plain": [
       "        one       two\n",
       "0  0.610891  0.917145\n",
       "1  0.562846  0.684182\n",
       "2  0.322844  0.171971\n",
       "3  0.963525  0.733214"
      ],
      "text/html": "<div>\n<style scoped>\n    .dataframe tbody tr th:only-of-type {\n        vertical-align: middle;\n    }\n\n    .dataframe tbody tr th {\n        vertical-align: top;\n    }\n\n    .dataframe thead th {\n        text-align: right;\n    }\n</style>\n<table border=\"1\" class=\"dataframe\">\n  <thead>\n    <tr style=\"text-align: right;\">\n      <th></th>\n      <th>one</th>\n      <th>two</th>\n    </tr>\n  </thead>\n  <tbody>\n    <tr>\n      <th>0</th>\n      <td>0.610891</td>\n      <td>0.917145</td>\n    </tr>\n    <tr>\n      <th>1</th>\n      <td>0.562846</td>\n      <td>0.684182</td>\n    </tr>\n    <tr>\n      <th>2</th>\n      <td>0.322844</td>\n      <td>0.171971</td>\n    </tr>\n    <tr>\n      <th>3</th>\n      <td>0.963525</td>\n      <td>0.733214</td>\n    </tr>\n  </tbody>\n</table>\n</div>"
     },
     "metadata": {},
     "execution_count": 5
    }
   ],
   "source": [
    "#create dataframe with numpy-arrays\n",
    "pd.DataFrame(arr, columns=['one', 'two'])"
   ]
  },
  {
   "cell_type": "code",
   "execution_count": 6,
   "metadata": {},
   "outputs": [
    {
     "output_type": "execute_result",
     "data": {
      "text/plain": [
       "         test\n",
       "student      \n",
       "100        64\n",
       "101        87\n",
       "102        76\n",
       "103        69\n",
       "104        91\n",
       "105        91\n",
       "106        92\n",
       "107        67\n",
       "108        86\n",
       "109        67"
      ],
      "text/html": "<div>\n<style scoped>\n    .dataframe tbody tr th:only-of-type {\n        vertical-align: middle;\n    }\n\n    .dataframe tbody tr th {\n        vertical-align: top;\n    }\n\n    .dataframe thead th {\n        text-align: right;\n    }\n</style>\n<table border=\"1\" class=\"dataframe\">\n  <thead>\n    <tr style=\"text-align: right;\">\n      <th></th>\n      <th>test</th>\n    </tr>\n    <tr>\n      <th>student</th>\n      <th></th>\n    </tr>\n  </thead>\n  <tbody>\n    <tr>\n      <th>100</th>\n      <td>64</td>\n    </tr>\n    <tr>\n      <th>101</th>\n      <td>87</td>\n    </tr>\n    <tr>\n      <th>102</th>\n      <td>76</td>\n    </tr>\n    <tr>\n      <th>103</th>\n      <td>69</td>\n    </tr>\n    <tr>\n      <th>104</th>\n      <td>91</td>\n    </tr>\n    <tr>\n      <th>105</th>\n      <td>91</td>\n    </tr>\n    <tr>\n      <th>106</th>\n      <td>92</td>\n    </tr>\n    <tr>\n      <th>107</th>\n      <td>67</td>\n    </tr>\n    <tr>\n      <th>108</th>\n      <td>86</td>\n    </tr>\n    <tr>\n      <th>109</th>\n      <td>67</td>\n    </tr>\n  </tbody>\n</table>\n</div>"
     },
     "metadata": {},
     "execution_count": 6
    }
   ],
   "source": [
    "#IMPORTANT: PANDAS\n",
    "#sample #create #numpy #pandas\n",
    "\n",
    "#create a dataframe from scratch\n",
    "#set_index function\n",
    "pd.DataFrame(\n",
    "    {'student': np.arange(100,110,1),\n",
    "    'test': np.random.randint(60,101,10)\n",
    "    }).set_index('student')"
   ]
  },
  {
   "cell_type": "code",
   "execution_count": 7,
   "metadata": {},
   "outputs": [
    {
     "output_type": "execute_result",
     "data": {
      "text/plain": [
       "c     round\n",
       "b    square\n",
       "Name: shape, dtype: object"
      ]
     },
     "metadata": {},
     "execution_count": 7
    }
   ],
   "source": [
    "#create series from scratch\n",
    "s = pd.Series(['round', 'square'], index=['c','b'], name='shape')\n",
    "s"
   ]
  },
  {
   "cell_type": "code",
   "execution_count": 8,
   "metadata": {},
   "outputs": [
    {
     "output_type": "execute_result",
     "data": {
      "text/plain": [
       "    id color\n",
       "a  100   red\n",
       "b  101  blue\n",
       "c  102   red"
      ],
      "text/html": "<div>\n<style scoped>\n    .dataframe tbody tr th:only-of-type {\n        vertical-align: middle;\n    }\n\n    .dataframe tbody tr th {\n        vertical-align: top;\n    }\n\n    .dataframe thead th {\n        text-align: right;\n    }\n</style>\n<table border=\"1\" class=\"dataframe\">\n  <thead>\n    <tr style=\"text-align: right;\">\n      <th></th>\n      <th>id</th>\n      <th>color</th>\n    </tr>\n  </thead>\n  <tbody>\n    <tr>\n      <th>a</th>\n      <td>100</td>\n      <td>red</td>\n    </tr>\n    <tr>\n      <th>b</th>\n      <td>101</td>\n      <td>blue</td>\n    </tr>\n    <tr>\n      <th>c</th>\n      <td>102</td>\n      <td>red</td>\n    </tr>\n  </tbody>\n</table>\n</div>"
     },
     "metadata": {},
     "execution_count": 8
    }
   ],
   "source": [
    "df"
   ]
  },
  {
   "cell_type": "code",
   "execution_count": 9,
   "metadata": {},
   "outputs": [
    {
     "output_type": "execute_result",
     "data": {
      "text/plain": [
       "    id color   shape\n",
       "a  100   red     NaN\n",
       "b  101  blue  square\n",
       "c  102   red   round"
      ],
      "text/html": "<div>\n<style scoped>\n    .dataframe tbody tr th:only-of-type {\n        vertical-align: middle;\n    }\n\n    .dataframe tbody tr th {\n        vertical-align: top;\n    }\n\n    .dataframe thead th {\n        text-align: right;\n    }\n</style>\n<table border=\"1\" class=\"dataframe\">\n  <thead>\n    <tr style=\"text-align: right;\">\n      <th></th>\n      <th>id</th>\n      <th>color</th>\n      <th>shape</th>\n    </tr>\n  </thead>\n  <tbody>\n    <tr>\n      <th>a</th>\n      <td>100</td>\n      <td>red</td>\n      <td>NaN</td>\n    </tr>\n    <tr>\n      <th>b</th>\n      <td>101</td>\n      <td>blue</td>\n      <td>square</td>\n    </tr>\n    <tr>\n      <th>c</th>\n      <td>102</td>\n      <td>red</td>\n      <td>round</td>\n    </tr>\n  </tbody>\n</table>\n</div>"
     },
     "metadata": {},
     "execution_count": 9
    }
   ],
   "source": [
    "#IMPORTANT: PANDAS\n",
    "#concat #merge #pandas\n",
    "#concat a series with a dataframe by index\n",
    "#1: name of series (shape) became col-name\n",
    "#2: series was alligned to the dataframe by the index\n",
    "#3: a.shape became a NaN-value\n",
    "pd.concat([df,s],axis=1)"
   ]
  }
 ],
 "metadata": {
  "kernelspec": {
   "display_name": "Python 3",
   "language": "python",
   "name": "python3"
  },
  "language_info": {
   "codemirror_mode": {
    "name": "ipython",
    "version": 3
   },
   "file_extension": ".py",
   "mimetype": "text/x-python",
   "name": "python",
   "nbconvert_exporter": "python",
   "pygments_lexer": "ipython3",
   "version": "3.8.5-final"
  }
 },
 "nbformat": 4,
 "nbformat_minor": 4
}