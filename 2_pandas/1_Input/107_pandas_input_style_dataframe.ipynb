{
 "cells": [
  {
   "source": [
    "## How to style a dataframe?"
   ],
   "cell_type": "markdown",
   "metadata": {}
  },
  {
   "cell_type": "code",
   "execution_count": 3,
   "metadata": {},
   "outputs": [],
   "source": [
    "import pandas as pd"
   ]
  },
  {
   "cell_type": "code",
   "execution_count": 4,
   "metadata": {},
   "outputs": [
    {
     "output_type": "execute_result",
     "data": {
      "text/plain": [
       "         Date   Close    Volume Symbol\n",
       "0  2016-10-03   31.50  14070500   CSCO\n",
       "1  2016-10-03  112.52  21701800   AAPL\n",
       "2  2016-10-03   57.42  19189500   MSFT\n",
       "3  2016-10-04  113.00  29736800   AAPL\n",
       "4  2016-10-04   57.24  20085900   MSFT\n",
       "5  2016-10-04   31.35  18460400   CSCO\n",
       "6  2016-10-05   57.64  16726400   MSFT\n",
       "7  2016-10-05   31.59  11808600   CSCO\n",
       "8  2016-10-05  113.05  21453100   AAPL"
      ],
      "text/html": "<div>\n<style scoped>\n    .dataframe tbody tr th:only-of-type {\n        vertical-align: middle;\n    }\n\n    .dataframe tbody tr th {\n        vertical-align: top;\n    }\n\n    .dataframe thead th {\n        text-align: right;\n    }\n</style>\n<table border=\"1\" class=\"dataframe\">\n  <thead>\n    <tr style=\"text-align: right;\">\n      <th></th>\n      <th>Date</th>\n      <th>Close</th>\n      <th>Volume</th>\n      <th>Symbol</th>\n    </tr>\n  </thead>\n  <tbody>\n    <tr>\n      <th>0</th>\n      <td>2016-10-03</td>\n      <td>31.50</td>\n      <td>14070500</td>\n      <td>CSCO</td>\n    </tr>\n    <tr>\n      <th>1</th>\n      <td>2016-10-03</td>\n      <td>112.52</td>\n      <td>21701800</td>\n      <td>AAPL</td>\n    </tr>\n    <tr>\n      <th>2</th>\n      <td>2016-10-03</td>\n      <td>57.42</td>\n      <td>19189500</td>\n      <td>MSFT</td>\n    </tr>\n    <tr>\n      <th>3</th>\n      <td>2016-10-04</td>\n      <td>113.00</td>\n      <td>29736800</td>\n      <td>AAPL</td>\n    </tr>\n    <tr>\n      <th>4</th>\n      <td>2016-10-04</td>\n      <td>57.24</td>\n      <td>20085900</td>\n      <td>MSFT</td>\n    </tr>\n    <tr>\n      <th>5</th>\n      <td>2016-10-04</td>\n      <td>31.35</td>\n      <td>18460400</td>\n      <td>CSCO</td>\n    </tr>\n    <tr>\n      <th>6</th>\n      <td>2016-10-05</td>\n      <td>57.64</td>\n      <td>16726400</td>\n      <td>MSFT</td>\n    </tr>\n    <tr>\n      <th>7</th>\n      <td>2016-10-05</td>\n      <td>31.59</td>\n      <td>11808600</td>\n      <td>CSCO</td>\n    </tr>\n    <tr>\n      <th>8</th>\n      <td>2016-10-05</td>\n      <td>113.05</td>\n      <td>21453100</td>\n      <td>AAPL</td>\n    </tr>\n  </tbody>\n</table>\n</div>"
     },
     "metadata": {},
     "execution_count": 4
    }
   ],
   "source": [
    "#read stocks\n",
    "stocks_path = 'http://bit.ly/smallstocks'\n",
    "stocks = pd.read_csv(stocks_path)\n",
    "stocks"
   ]
  },
  {
   "cell_type": "code",
   "execution_count": 5,
   "metadata": {},
   "outputs": [
    {
     "output_type": "execute_result",
     "data": {
      "text/plain": [
       "<pandas.io.formats.style.Styler at 0x7f9b583e72e0>"
      ],
      "text/html": "<style  type=\"text/css\" >\n#T_6c6f17e4_7750_11eb_9457_9cf387a2a700row0_col2{\n            background-color:  #deebf7;\n            color:  #000000;\n            width:  10em;\n             height:  80%;\n            background:  linear-gradient(90deg, transparent 50.0%, lightblue 50.0%, lightblue 73.7%, transparent 73.7%);\n        }#T_6c6f17e4_7750_11eb_9457_9cf387a2a700row1_col2{\n            background-color:  #5aa2cf;\n            color:  #000000;\n            width:  10em;\n             height:  80%;\n            background:  linear-gradient(90deg, transparent 50.0%, lightblue 50.0%, lightblue 86.5%, transparent 86.5%);\n        }#T_6c6f17e4_7750_11eb_9457_9cf387a2a700row2_col2{\n            background-color:  #8fc2de;\n            color:  #000000;\n            width:  10em;\n             height:  80%;\n            background:  linear-gradient(90deg, transparent 50.0%, lightblue 50.0%, lightblue 82.3%, transparent 82.3%);\n        }#T_6c6f17e4_7750_11eb_9457_9cf387a2a700row3_col2{\n            background-color:  #08306b;\n            color:  #f1f1f1;\n            width:  10em;\n             height:  80%;\n            background:  linear-gradient(90deg, transparent 50.0%, lightblue 50.0%, lightblue 100.0%, transparent 100.0%);\n        }#T_6c6f17e4_7750_11eb_9457_9cf387a2a700row4_col2{\n            background-color:  #7ab6d9;\n            color:  #000000;\n            width:  10em;\n             height:  80%;\n            background:  linear-gradient(90deg, transparent 50.0%, lightblue 50.0%, lightblue 83.8%, transparent 83.8%);\n        }#T_6c6f17e4_7750_11eb_9457_9cf387a2a700row5_col1{\n            background-color:  red;\n        }#T_6c6f17e4_7750_11eb_9457_9cf387a2a700row5_col2{\n            background-color:  #a0cbe2;\n            color:  #000000;\n            width:  10em;\n             height:  80%;\n            background:  linear-gradient(90deg, transparent 50.0%, lightblue 50.0%, lightblue 81.0%, transparent 81.0%);\n        }#T_6c6f17e4_7750_11eb_9457_9cf387a2a700row6_col2{\n            background-color:  #bed8ec;\n            color:  #000000;\n            width:  10em;\n             height:  80%;\n            background:  linear-gradient(90deg, transparent 50.0%, lightblue 50.0%, lightblue 78.1%, transparent 78.1%);\n        }#T_6c6f17e4_7750_11eb_9457_9cf387a2a700row7_col2{\n            background-color:  #f7fbff;\n            color:  #000000;\n            width:  10em;\n             height:  80%;\n            background:  linear-gradient(90deg, transparent 50.0%, lightblue 50.0%, lightblue 69.9%, transparent 69.9%);\n        }#T_6c6f17e4_7750_11eb_9457_9cf387a2a700row8_col1{\n            background-color:  lightgreen;\n        }#T_6c6f17e4_7750_11eb_9457_9cf387a2a700row8_col2{\n            background-color:  #5fa6d1;\n            color:  #000000;\n            width:  10em;\n             height:  80%;\n            background:  linear-gradient(90deg, transparent 50.0%, lightblue 50.0%, lightblue 86.1%, transparent 86.1%);\n        }</style><table id=\"T_6c6f17e4_7750_11eb_9457_9cf387a2a700\" ><caption>Stock Prices from October 2016</caption><thead>    <tr>        <th class=\"col_heading level0 col0\" >Date</th>        <th class=\"col_heading level0 col1\" >Close</th>        <th class=\"col_heading level0 col2\" >Volume</th>        <th class=\"col_heading level0 col3\" >Symbol</th>    </tr></thead><tbody>\n                <tr>\n                                <td id=\"T_6c6f17e4_7750_11eb_9457_9cf387a2a700row0_col0\" class=\"data row0 col0\" >2016-10-03</td>\n                        <td id=\"T_6c6f17e4_7750_11eb_9457_9cf387a2a700row0_col1\" class=\"data row0 col1\" >31.500000</td>\n                        <td id=\"T_6c6f17e4_7750_11eb_9457_9cf387a2a700row0_col2\" class=\"data row0 col2\" >14070500</td>\n                        <td id=\"T_6c6f17e4_7750_11eb_9457_9cf387a2a700row0_col3\" class=\"data row0 col3\" >CSCO</td>\n            </tr>\n            <tr>\n                                <td id=\"T_6c6f17e4_7750_11eb_9457_9cf387a2a700row1_col0\" class=\"data row1 col0\" >2016-10-03</td>\n                        <td id=\"T_6c6f17e4_7750_11eb_9457_9cf387a2a700row1_col1\" class=\"data row1 col1\" >112.520000</td>\n                        <td id=\"T_6c6f17e4_7750_11eb_9457_9cf387a2a700row1_col2\" class=\"data row1 col2\" >21701800</td>\n                        <td id=\"T_6c6f17e4_7750_11eb_9457_9cf387a2a700row1_col3\" class=\"data row1 col3\" >AAPL</td>\n            </tr>\n            <tr>\n                                <td id=\"T_6c6f17e4_7750_11eb_9457_9cf387a2a700row2_col0\" class=\"data row2 col0\" >2016-10-03</td>\n                        <td id=\"T_6c6f17e4_7750_11eb_9457_9cf387a2a700row2_col1\" class=\"data row2 col1\" >57.420000</td>\n                        <td id=\"T_6c6f17e4_7750_11eb_9457_9cf387a2a700row2_col2\" class=\"data row2 col2\" >19189500</td>\n                        <td id=\"T_6c6f17e4_7750_11eb_9457_9cf387a2a700row2_col3\" class=\"data row2 col3\" >MSFT</td>\n            </tr>\n            <tr>\n                                <td id=\"T_6c6f17e4_7750_11eb_9457_9cf387a2a700row3_col0\" class=\"data row3 col0\" >2016-10-04</td>\n                        <td id=\"T_6c6f17e4_7750_11eb_9457_9cf387a2a700row3_col1\" class=\"data row3 col1\" >113.000000</td>\n                        <td id=\"T_6c6f17e4_7750_11eb_9457_9cf387a2a700row3_col2\" class=\"data row3 col2\" >29736800</td>\n                        <td id=\"T_6c6f17e4_7750_11eb_9457_9cf387a2a700row3_col3\" class=\"data row3 col3\" >AAPL</td>\n            </tr>\n            <tr>\n                                <td id=\"T_6c6f17e4_7750_11eb_9457_9cf387a2a700row4_col0\" class=\"data row4 col0\" >2016-10-04</td>\n                        <td id=\"T_6c6f17e4_7750_11eb_9457_9cf387a2a700row4_col1\" class=\"data row4 col1\" >57.240000</td>\n                        <td id=\"T_6c6f17e4_7750_11eb_9457_9cf387a2a700row4_col2\" class=\"data row4 col2\" >20085900</td>\n                        <td id=\"T_6c6f17e4_7750_11eb_9457_9cf387a2a700row4_col3\" class=\"data row4 col3\" >MSFT</td>\n            </tr>\n            <tr>\n                                <td id=\"T_6c6f17e4_7750_11eb_9457_9cf387a2a700row5_col0\" class=\"data row5 col0\" >2016-10-04</td>\n                        <td id=\"T_6c6f17e4_7750_11eb_9457_9cf387a2a700row5_col1\" class=\"data row5 col1\" >31.350000</td>\n                        <td id=\"T_6c6f17e4_7750_11eb_9457_9cf387a2a700row5_col2\" class=\"data row5 col2\" >18460400</td>\n                        <td id=\"T_6c6f17e4_7750_11eb_9457_9cf387a2a700row5_col3\" class=\"data row5 col3\" >CSCO</td>\n            </tr>\n            <tr>\n                                <td id=\"T_6c6f17e4_7750_11eb_9457_9cf387a2a700row6_col0\" class=\"data row6 col0\" >2016-10-05</td>\n                        <td id=\"T_6c6f17e4_7750_11eb_9457_9cf387a2a700row6_col1\" class=\"data row6 col1\" >57.640000</td>\n                        <td id=\"T_6c6f17e4_7750_11eb_9457_9cf387a2a700row6_col2\" class=\"data row6 col2\" >16726400</td>\n                        <td id=\"T_6c6f17e4_7750_11eb_9457_9cf387a2a700row6_col3\" class=\"data row6 col3\" >MSFT</td>\n            </tr>\n            <tr>\n                                <td id=\"T_6c6f17e4_7750_11eb_9457_9cf387a2a700row7_col0\" class=\"data row7 col0\" >2016-10-05</td>\n                        <td id=\"T_6c6f17e4_7750_11eb_9457_9cf387a2a700row7_col1\" class=\"data row7 col1\" >31.590000</td>\n                        <td id=\"T_6c6f17e4_7750_11eb_9457_9cf387a2a700row7_col2\" class=\"data row7 col2\" >11808600</td>\n                        <td id=\"T_6c6f17e4_7750_11eb_9457_9cf387a2a700row7_col3\" class=\"data row7 col3\" >CSCO</td>\n            </tr>\n            <tr>\n                                <td id=\"T_6c6f17e4_7750_11eb_9457_9cf387a2a700row8_col0\" class=\"data row8 col0\" >2016-10-05</td>\n                        <td id=\"T_6c6f17e4_7750_11eb_9457_9cf387a2a700row8_col1\" class=\"data row8 col1\" >113.050000</td>\n                        <td id=\"T_6c6f17e4_7750_11eb_9457_9cf387a2a700row8_col2\" class=\"data row8 col2\" >21453100</td>\n                        <td id=\"T_6c6f17e4_7750_11eb_9457_9cf387a2a700row8_col3\" class=\"data row8 col3\" >AAPL</td>\n            </tr>\n    </tbody></table>"
     },
     "metadata": {},
     "execution_count": 5
    }
   ],
   "source": [
    "#IMPORTANT: PANDAS\n",
    "#style #format #prepare #read #pandas\n",
    "\n",
    "(stocks.style.hide_index()\n",
    ".highlight_max('Close', color='lightgreen')\n",
    ".highlight_min('Close', color='red')\n",
    ".background_gradient(subset='Volume', cmap='Blues')\n",
    ".bar('Volume', color='lightblue', align='zero')\n",
    ".set_caption('Stock Prices from October 2016')\n",
    ")"
   ]
  }
 ],
 "metadata": {
  "kernelspec": {
   "display_name": "Python 3",
   "language": "python",
   "name": "python3"
  },
  "language_info": {
   "codemirror_mode": {
    "name": "ipython",
    "version": 3
   },
   "file_extension": ".py",
   "mimetype": "text/x-python",
   "name": "python",
   "nbconvert_exporter": "python",
   "pygments_lexer": "ipython3",
   "version": "3.8.5-final"
  }
 },
 "nbformat": 4,
 "nbformat_minor": 4
}